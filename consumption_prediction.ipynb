{
 "cells": [
  {
   "cell_type": "markdown",
   "metadata": {},
   "source": [
    "### The dataset\n",
    "http://archive.ics.uci.edu/ml/datasets/Individual+household+electric+power+consumption"
   ]
  },
  {
   "cell_type": "markdown",
   "metadata": {},
   "source": [
    "### Attribute Information:\n",
    "\n",
    "* 1.date: Date in format dd/mm/yyyy \n",
    "* 2.time: time in format hh:mm:ss \n",
    "* 3.global_active_power: household global minute-averaged active power (in kilowatt) \n",
    "* 4.global_reactive_power: household global minute-averaged reactive power (in kilowatt) \n",
    "* 5.voltage: minute-averaged voltage (in volt) \n",
    "* 6.global_intensity: household global minute-averaged current intensity (in ampere) \n",
    "* 7.sub_metering_1: energy sub-metering No. 1 (in watt-hour of active energy). It corresponds to the kitchen, containing mainly a dishwasher, an oven and a microwave (hot plates are not electric but gas powered). \n",
    "* 8.sub_metering_2: energy sub-metering No. 2 (in watt-hour of active energy). It corresponds to the laundry room, containing a washing-machine, a tumble-drier, a refrigerator and a light. \n",
    "* 9.sub_metering_3: energy sub-metering No. 3 (in watt-hour of active energy). It corresponds to an electric water-heater and an air-conditioner."
   ]
  },
  {
   "cell_type": "markdown",
   "metadata": {},
   "source": [
    "Import everything"
   ]
  },
  {
   "cell_type": "code",
   "execution_count": 1,
   "metadata": {},
   "outputs": [
    {
     "name": "stderr",
     "output_type": "stream",
     "text": [
      "/Users/gujgicza/anaconda3/lib/python3.6/site-packages/sklearn/cross_validation.py:41: DeprecationWarning: This module was deprecated in version 0.18 in favor of the model_selection module into which all the refactored classes and functions are moved. Also note that the interface of the new CV iterators are different from that of this module. This module will be removed in 0.20.\n",
      "  \"This module will be removed in 0.20.\", DeprecationWarning)\n",
      "/Users/gujgicza/anaconda3/lib/python3.6/site-packages/h5py/__init__.py:36: FutureWarning: Conversion of the second argument of issubdtype from `float` to `np.floating` is deprecated. In future, it will be treated as `np.float64 == np.dtype(float).type`.\n",
      "  from ._conv import register_converters as _register_converters\n",
      "Using TensorFlow backend.\n"
     ]
    }
   ],
   "source": [
    "import sys \n",
    "import numpy as np\n",
    "from scipy.stats import randint\n",
    "import pandas as pd\n",
    "import matplotlib.pyplot as plt\n",
    "import seaborn as sns\n",
    "from sklearn.model_selection import train_test_split\n",
    "from sklearn.cross_validation import KFold\n",
    "from sklearn.preprocessing import StandardScaler\n",
    "from sklearn.preprocessing import MinMaxScaler\n",
    "from sklearn.pipeline import Pipeline\n",
    "from sklearn.model_selection import cross_val_score\n",
    "from sklearn.feature_selection import SelectFromModel\n",
    "from sklearn import metrics\n",
    "from sklearn.metrics import mean_squared_error,r2_score\n",
    "\n",
    "import keras\n",
    "from keras.layers import Dense\n",
    "from keras.models import Sequential\n",
    "from keras.utils import to_categorical\n",
    "from keras.optimizers import SGD \n",
    "from keras.callbacks import EarlyStopping\n",
    "from keras.utils import np_utils\n",
    "import itertools\n",
    "from keras.layers import LSTM\n",
    "from keras.layers.convolutional import Conv1D\n",
    "from keras.layers.convolutional import MaxPooling1D\n",
    "from keras.layers import Dropout\n",
    "\n",
    "from keras.models import model_from_json\n",
    "from keras.models import load_model"
   ]
  },
  {
   "cell_type": "markdown",
   "metadata": {},
   "source": [
    "### Importing the data and data processing"
   ]
  },
  {
   "cell_type": "code",
   "execution_count": 2,
   "metadata": {},
   "outputs": [],
   "source": [
    "df = pd.read_csv('household_power_consumption.txt', sep=';', \n",
    "                 parse_dates={'dt' : ['Date', 'Time']}, infer_datetime_format=True, \n",
    "                 low_memory=False, na_values=['nan','?'], index_col='dt')"
   ]
  },
  {
   "cell_type": "code",
   "execution_count": 3,
   "metadata": {},
   "outputs": [
    {
     "data": {
      "text/html": [
       "<div>\n",
       "<style scoped>\n",
       "    .dataframe tbody tr th:only-of-type {\n",
       "        vertical-align: middle;\n",
       "    }\n",
       "\n",
       "    .dataframe tbody tr th {\n",
       "        vertical-align: top;\n",
       "    }\n",
       "\n",
       "    .dataframe thead th {\n",
       "        text-align: right;\n",
       "    }\n",
       "</style>\n",
       "<table border=\"1\" class=\"dataframe\">\n",
       "  <thead>\n",
       "    <tr style=\"text-align: right;\">\n",
       "      <th></th>\n",
       "      <th>Global_active_power</th>\n",
       "      <th>Global_reactive_power</th>\n",
       "      <th>Voltage</th>\n",
       "      <th>Global_intensity</th>\n",
       "      <th>Sub_metering_1</th>\n",
       "      <th>Sub_metering_2</th>\n",
       "      <th>Sub_metering_3</th>\n",
       "    </tr>\n",
       "    <tr>\n",
       "      <th>dt</th>\n",
       "      <th></th>\n",
       "      <th></th>\n",
       "      <th></th>\n",
       "      <th></th>\n",
       "      <th></th>\n",
       "      <th></th>\n",
       "      <th></th>\n",
       "    </tr>\n",
       "  </thead>\n",
       "  <tbody>\n",
       "    <tr>\n",
       "      <th>2006-12-16 17:24:00</th>\n",
       "      <td>4.216</td>\n",
       "      <td>0.418</td>\n",
       "      <td>234.84</td>\n",
       "      <td>18.4</td>\n",
       "      <td>0.0</td>\n",
       "      <td>1.0</td>\n",
       "      <td>17.0</td>\n",
       "    </tr>\n",
       "    <tr>\n",
       "      <th>2006-12-16 17:25:00</th>\n",
       "      <td>5.360</td>\n",
       "      <td>0.436</td>\n",
       "      <td>233.63</td>\n",
       "      <td>23.0</td>\n",
       "      <td>0.0</td>\n",
       "      <td>1.0</td>\n",
       "      <td>16.0</td>\n",
       "    </tr>\n",
       "    <tr>\n",
       "      <th>2006-12-16 17:26:00</th>\n",
       "      <td>5.374</td>\n",
       "      <td>0.498</td>\n",
       "      <td>233.29</td>\n",
       "      <td>23.0</td>\n",
       "      <td>0.0</td>\n",
       "      <td>2.0</td>\n",
       "      <td>17.0</td>\n",
       "    </tr>\n",
       "    <tr>\n",
       "      <th>2006-12-16 17:27:00</th>\n",
       "      <td>5.388</td>\n",
       "      <td>0.502</td>\n",
       "      <td>233.74</td>\n",
       "      <td>23.0</td>\n",
       "      <td>0.0</td>\n",
       "      <td>1.0</td>\n",
       "      <td>17.0</td>\n",
       "    </tr>\n",
       "    <tr>\n",
       "      <th>2006-12-16 17:28:00</th>\n",
       "      <td>3.666</td>\n",
       "      <td>0.528</td>\n",
       "      <td>235.68</td>\n",
       "      <td>15.8</td>\n",
       "      <td>0.0</td>\n",
       "      <td>1.0</td>\n",
       "      <td>17.0</td>\n",
       "    </tr>\n",
       "  </tbody>\n",
       "</table>\n",
       "</div>"
      ],
      "text/plain": [
       "                     Global_active_power  Global_reactive_power  Voltage  \\\n",
       "dt                                                                         \n",
       "2006-12-16 17:24:00                4.216                  0.418   234.84   \n",
       "2006-12-16 17:25:00                5.360                  0.436   233.63   \n",
       "2006-12-16 17:26:00                5.374                  0.498   233.29   \n",
       "2006-12-16 17:27:00                5.388                  0.502   233.74   \n",
       "2006-12-16 17:28:00                3.666                  0.528   235.68   \n",
       "\n",
       "                     Global_intensity  Sub_metering_1  Sub_metering_2  \\\n",
       "dt                                                                      \n",
       "2006-12-16 17:24:00              18.4             0.0             1.0   \n",
       "2006-12-16 17:25:00              23.0             0.0             1.0   \n",
       "2006-12-16 17:26:00              23.0             0.0             2.0   \n",
       "2006-12-16 17:27:00              23.0             0.0             1.0   \n",
       "2006-12-16 17:28:00              15.8             0.0             1.0   \n",
       "\n",
       "                     Sub_metering_3  \n",
       "dt                                   \n",
       "2006-12-16 17:24:00            17.0  \n",
       "2006-12-16 17:25:00            16.0  \n",
       "2006-12-16 17:26:00            17.0  \n",
       "2006-12-16 17:27:00            17.0  \n",
       "2006-12-16 17:28:00            17.0  "
      ]
     },
     "execution_count": 3,
     "metadata": {},
     "output_type": "execute_result"
    }
   ],
   "source": [
    "df.head()"
   ]
  },
  {
   "cell_type": "markdown",
   "metadata": {},
   "source": [
    "### Data preparation"
   ]
  },
  {
   "cell_type": "markdown",
   "metadata": {},
   "source": [
    "Dealing with 'nan' values"
   ]
  },
  {
   "cell_type": "code",
   "execution_count": 4,
   "metadata": {},
   "outputs": [],
   "source": [
    "for j in range(0,7):        \n",
    "        df.iloc[:,j]=df.iloc[:,j].fillna(df.iloc[:,j].mean())"
   ]
  },
  {
   "cell_type": "code",
   "execution_count": 5,
   "metadata": {
    "scrolled": true
   },
   "outputs": [
    {
     "data": {
      "text/html": [
       "<div>\n",
       "<style scoped>\n",
       "    .dataframe tbody tr th:only-of-type {\n",
       "        vertical-align: middle;\n",
       "    }\n",
       "\n",
       "    .dataframe tbody tr th {\n",
       "        vertical-align: top;\n",
       "    }\n",
       "\n",
       "    .dataframe thead th {\n",
       "        text-align: right;\n",
       "    }\n",
       "</style>\n",
       "<table border=\"1\" class=\"dataframe\">\n",
       "  <thead>\n",
       "    <tr style=\"text-align: right;\">\n",
       "      <th></th>\n",
       "      <th>Global_active_power</th>\n",
       "      <th>Global_reactive_power</th>\n",
       "      <th>Voltage</th>\n",
       "      <th>Global_intensity</th>\n",
       "      <th>Sub_metering_1</th>\n",
       "      <th>Sub_metering_2</th>\n",
       "      <th>Sub_metering_3</th>\n",
       "    </tr>\n",
       "  </thead>\n",
       "  <tbody>\n",
       "    <tr>\n",
       "      <th>count</th>\n",
       "      <td>2.075259e+06</td>\n",
       "      <td>2.075259e+06</td>\n",
       "      <td>2.075259e+06</td>\n",
       "      <td>2.075259e+06</td>\n",
       "      <td>2.075259e+06</td>\n",
       "      <td>2.075259e+06</td>\n",
       "      <td>2.075259e+06</td>\n",
       "    </tr>\n",
       "    <tr>\n",
       "      <th>mean</th>\n",
       "      <td>1.091615e+00</td>\n",
       "      <td>1.237145e-01</td>\n",
       "      <td>2.408399e+02</td>\n",
       "      <td>4.627759e+00</td>\n",
       "      <td>1.121923e+00</td>\n",
       "      <td>1.298520e+00</td>\n",
       "      <td>6.458447e+00</td>\n",
       "    </tr>\n",
       "    <tr>\n",
       "      <th>std</th>\n",
       "      <td>1.050655e+00</td>\n",
       "      <td>1.120142e-01</td>\n",
       "      <td>3.219643e+00</td>\n",
       "      <td>4.416490e+00</td>\n",
       "      <td>6.114397e+00</td>\n",
       "      <td>5.785470e+00</td>\n",
       "      <td>8.384178e+00</td>\n",
       "    </tr>\n",
       "    <tr>\n",
       "      <th>min</th>\n",
       "      <td>7.600000e-02</td>\n",
       "      <td>0.000000e+00</td>\n",
       "      <td>2.232000e+02</td>\n",
       "      <td>2.000000e-01</td>\n",
       "      <td>0.000000e+00</td>\n",
       "      <td>0.000000e+00</td>\n",
       "      <td>0.000000e+00</td>\n",
       "    </tr>\n",
       "    <tr>\n",
       "      <th>25%</th>\n",
       "      <td>3.100000e-01</td>\n",
       "      <td>4.800000e-02</td>\n",
       "      <td>2.390200e+02</td>\n",
       "      <td>1.400000e+00</td>\n",
       "      <td>0.000000e+00</td>\n",
       "      <td>0.000000e+00</td>\n",
       "      <td>0.000000e+00</td>\n",
       "    </tr>\n",
       "    <tr>\n",
       "      <th>50%</th>\n",
       "      <td>6.300000e-01</td>\n",
       "      <td>1.020000e-01</td>\n",
       "      <td>2.409600e+02</td>\n",
       "      <td>2.800000e+00</td>\n",
       "      <td>0.000000e+00</td>\n",
       "      <td>0.000000e+00</td>\n",
       "      <td>1.000000e+00</td>\n",
       "    </tr>\n",
       "    <tr>\n",
       "      <th>75%</th>\n",
       "      <td>1.520000e+00</td>\n",
       "      <td>1.920000e-01</td>\n",
       "      <td>2.428600e+02</td>\n",
       "      <td>6.400000e+00</td>\n",
       "      <td>0.000000e+00</td>\n",
       "      <td>1.000000e+00</td>\n",
       "      <td>1.700000e+01</td>\n",
       "    </tr>\n",
       "    <tr>\n",
       "      <th>max</th>\n",
       "      <td>1.112200e+01</td>\n",
       "      <td>1.390000e+00</td>\n",
       "      <td>2.541500e+02</td>\n",
       "      <td>4.840000e+01</td>\n",
       "      <td>8.800000e+01</td>\n",
       "      <td>8.000000e+01</td>\n",
       "      <td>3.100000e+01</td>\n",
       "    </tr>\n",
       "  </tbody>\n",
       "</table>\n",
       "</div>"
      ],
      "text/plain": [
       "       Global_active_power  Global_reactive_power       Voltage  \\\n",
       "count         2.075259e+06           2.075259e+06  2.075259e+06   \n",
       "mean          1.091615e+00           1.237145e-01  2.408399e+02   \n",
       "std           1.050655e+00           1.120142e-01  3.219643e+00   \n",
       "min           7.600000e-02           0.000000e+00  2.232000e+02   \n",
       "25%           3.100000e-01           4.800000e-02  2.390200e+02   \n",
       "50%           6.300000e-01           1.020000e-01  2.409600e+02   \n",
       "75%           1.520000e+00           1.920000e-01  2.428600e+02   \n",
       "max           1.112200e+01           1.390000e+00  2.541500e+02   \n",
       "\n",
       "       Global_intensity  Sub_metering_1  Sub_metering_2  Sub_metering_3  \n",
       "count      2.075259e+06    2.075259e+06    2.075259e+06    2.075259e+06  \n",
       "mean       4.627759e+00    1.121923e+00    1.298520e+00    6.458447e+00  \n",
       "std        4.416490e+00    6.114397e+00    5.785470e+00    8.384178e+00  \n",
       "min        2.000000e-01    0.000000e+00    0.000000e+00    0.000000e+00  \n",
       "25%        1.400000e+00    0.000000e+00    0.000000e+00    0.000000e+00  \n",
       "50%        2.800000e+00    0.000000e+00    0.000000e+00    1.000000e+00  \n",
       "75%        6.400000e+00    0.000000e+00    1.000000e+00    1.700000e+01  \n",
       "max        4.840000e+01    8.800000e+01    8.000000e+01    3.100000e+01  "
      ]
     },
     "execution_count": 5,
     "metadata": {},
     "output_type": "execute_result"
    }
   ],
   "source": [
    "df.describe()"
   ]
  },
  {
   "cell_type": "markdown",
   "metadata": {},
   "source": [
    "Get information from the time index"
   ]
  },
  {
   "cell_type": "code",
   "execution_count": 6,
   "metadata": {},
   "outputs": [],
   "source": [
    "df['Month'] = df.index.month\n",
    "df['DayOfWeek'] = df.index.dayofweek\n",
    "df['Hour'] = df.index.hour\n",
    "df['Season'] = (df.index.month%12 + 3)//3"
   ]
  },
  {
   "cell_type": "code",
   "execution_count": 7,
   "metadata": {},
   "outputs": [
    {
     "data": {
      "text/html": [
       "<div>\n",
       "<style scoped>\n",
       "    .dataframe tbody tr th:only-of-type {\n",
       "        vertical-align: middle;\n",
       "    }\n",
       "\n",
       "    .dataframe tbody tr th {\n",
       "        vertical-align: top;\n",
       "    }\n",
       "\n",
       "    .dataframe thead th {\n",
       "        text-align: right;\n",
       "    }\n",
       "</style>\n",
       "<table border=\"1\" class=\"dataframe\">\n",
       "  <thead>\n",
       "    <tr style=\"text-align: right;\">\n",
       "      <th></th>\n",
       "      <th>Global_active_power</th>\n",
       "      <th>Global_reactive_power</th>\n",
       "      <th>Voltage</th>\n",
       "      <th>Global_intensity</th>\n",
       "      <th>Sub_metering_1</th>\n",
       "      <th>Sub_metering_2</th>\n",
       "      <th>Sub_metering_3</th>\n",
       "      <th>Month</th>\n",
       "      <th>DayOfWeek</th>\n",
       "      <th>Hour</th>\n",
       "      <th>Season</th>\n",
       "    </tr>\n",
       "    <tr>\n",
       "      <th>dt</th>\n",
       "      <th></th>\n",
       "      <th></th>\n",
       "      <th></th>\n",
       "      <th></th>\n",
       "      <th></th>\n",
       "      <th></th>\n",
       "      <th></th>\n",
       "      <th></th>\n",
       "      <th></th>\n",
       "      <th></th>\n",
       "      <th></th>\n",
       "    </tr>\n",
       "  </thead>\n",
       "  <tbody>\n",
       "    <tr>\n",
       "      <th>2006-12-16 17:24:00</th>\n",
       "      <td>4.216</td>\n",
       "      <td>0.418</td>\n",
       "      <td>234.84</td>\n",
       "      <td>18.4</td>\n",
       "      <td>0.0</td>\n",
       "      <td>1.0</td>\n",
       "      <td>17.0</td>\n",
       "      <td>12</td>\n",
       "      <td>5</td>\n",
       "      <td>17</td>\n",
       "      <td>1</td>\n",
       "    </tr>\n",
       "    <tr>\n",
       "      <th>2006-12-16 17:25:00</th>\n",
       "      <td>5.360</td>\n",
       "      <td>0.436</td>\n",
       "      <td>233.63</td>\n",
       "      <td>23.0</td>\n",
       "      <td>0.0</td>\n",
       "      <td>1.0</td>\n",
       "      <td>16.0</td>\n",
       "      <td>12</td>\n",
       "      <td>5</td>\n",
       "      <td>17</td>\n",
       "      <td>1</td>\n",
       "    </tr>\n",
       "    <tr>\n",
       "      <th>2006-12-16 17:26:00</th>\n",
       "      <td>5.374</td>\n",
       "      <td>0.498</td>\n",
       "      <td>233.29</td>\n",
       "      <td>23.0</td>\n",
       "      <td>0.0</td>\n",
       "      <td>2.0</td>\n",
       "      <td>17.0</td>\n",
       "      <td>12</td>\n",
       "      <td>5</td>\n",
       "      <td>17</td>\n",
       "      <td>1</td>\n",
       "    </tr>\n",
       "    <tr>\n",
       "      <th>2006-12-16 17:27:00</th>\n",
       "      <td>5.388</td>\n",
       "      <td>0.502</td>\n",
       "      <td>233.74</td>\n",
       "      <td>23.0</td>\n",
       "      <td>0.0</td>\n",
       "      <td>1.0</td>\n",
       "      <td>17.0</td>\n",
       "      <td>12</td>\n",
       "      <td>5</td>\n",
       "      <td>17</td>\n",
       "      <td>1</td>\n",
       "    </tr>\n",
       "    <tr>\n",
       "      <th>2006-12-16 17:28:00</th>\n",
       "      <td>3.666</td>\n",
       "      <td>0.528</td>\n",
       "      <td>235.68</td>\n",
       "      <td>15.8</td>\n",
       "      <td>0.0</td>\n",
       "      <td>1.0</td>\n",
       "      <td>17.0</td>\n",
       "      <td>12</td>\n",
       "      <td>5</td>\n",
       "      <td>17</td>\n",
       "      <td>1</td>\n",
       "    </tr>\n",
       "  </tbody>\n",
       "</table>\n",
       "</div>"
      ],
      "text/plain": [
       "                     Global_active_power  Global_reactive_power  Voltage  \\\n",
       "dt                                                                         \n",
       "2006-12-16 17:24:00                4.216                  0.418   234.84   \n",
       "2006-12-16 17:25:00                5.360                  0.436   233.63   \n",
       "2006-12-16 17:26:00                5.374                  0.498   233.29   \n",
       "2006-12-16 17:27:00                5.388                  0.502   233.74   \n",
       "2006-12-16 17:28:00                3.666                  0.528   235.68   \n",
       "\n",
       "                     Global_intensity  Sub_metering_1  Sub_metering_2  \\\n",
       "dt                                                                      \n",
       "2006-12-16 17:24:00              18.4             0.0             1.0   \n",
       "2006-12-16 17:25:00              23.0             0.0             1.0   \n",
       "2006-12-16 17:26:00              23.0             0.0             2.0   \n",
       "2006-12-16 17:27:00              23.0             0.0             1.0   \n",
       "2006-12-16 17:28:00              15.8             0.0             1.0   \n",
       "\n",
       "                     Sub_metering_3  Month  DayOfWeek  Hour  Season  \n",
       "dt                                                                   \n",
       "2006-12-16 17:24:00            17.0     12          5    17       1  \n",
       "2006-12-16 17:25:00            16.0     12          5    17       1  \n",
       "2006-12-16 17:26:00            17.0     12          5    17       1  \n",
       "2006-12-16 17:27:00            17.0     12          5    17       1  \n",
       "2006-12-16 17:28:00            17.0     12          5    17       1  "
      ]
     },
     "execution_count": 7,
     "metadata": {},
     "output_type": "execute_result"
    }
   ],
   "source": [
    "df.head()"
   ]
  },
  {
   "cell_type": "markdown",
   "metadata": {},
   "source": [
    "### Data preparation"
   ]
  },
  {
   "cell_type": "code",
   "execution_count": 8,
   "metadata": {},
   "outputs": [],
   "source": [
    "def series_to_supervised(data, n_in=1, n_out=1, dropnan=True):\n",
    "    n_vars = 1 if type(data) is list else data.shape[1]\n",
    "    dff = pd.DataFrame(data)\n",
    "    cols, names = list(), list()\n",
    "    # input sequence (t-n, ... t-1)\n",
    "    for i in range(n_in, 0, -1):\n",
    "        cols.append(dff.shift(i))\n",
    "        names += [('var%d(t-%d)' % (j+1, i)) for j in range(n_vars)]\n",
    "    # forecast sequence (t, t+1, ... t+n)\n",
    "    for i in range(0, n_out):\n",
    "        cols.append(dff.shift(-i))\n",
    "        if i == 0:\n",
    "            names += [('var%d(t)' % (j+1)) for j in range(n_vars)]\n",
    "        else:\n",
    "            names += [('var%d(t+%d)' % (j+1, i)) for j in range(n_vars)]\n",
    "    # put it all together\n",
    "    agg = pd.concat(cols, axis=1)\n",
    "    agg.columns = names\n",
    "    # drop rows with NaN values\n",
    "    if dropnan:\n",
    "        agg.dropna(inplace=True)\n",
    "    return agg"
   ]
  },
  {
   "cell_type": "markdown",
   "metadata": {},
   "source": [
    "Optional resampling to shorten training time"
   ]
  },
  {
   "cell_type": "code",
   "execution_count": 9,
   "metadata": {},
   "outputs": [],
   "source": [
    "df_resample = df.resample('h').mean() "
   ]
  },
  {
   "cell_type": "code",
   "execution_count": 10,
   "metadata": {},
   "outputs": [],
   "source": [
    "values = df_resample.values "
   ]
  },
  {
   "cell_type": "markdown",
   "metadata": {},
   "source": [
    "Scaling"
   ]
  },
  {
   "cell_type": "code",
   "execution_count": 11,
   "metadata": {},
   "outputs": [],
   "source": [
    "scaler = MinMaxScaler(feature_range=(0, 1))\n",
    "scaled = scaler.fit_transform(values)\n",
    "\n",
    "reframed = series_to_supervised(scaled, 3, 1)"
   ]
  },
  {
   "cell_type": "code",
   "execution_count": 12,
   "metadata": {
    "scrolled": true
   },
   "outputs": [
    {
     "data": {
      "text/html": [
       "<div>\n",
       "<style scoped>\n",
       "    .dataframe tbody tr th:only-of-type {\n",
       "        vertical-align: middle;\n",
       "    }\n",
       "\n",
       "    .dataframe tbody tr th {\n",
       "        vertical-align: top;\n",
       "    }\n",
       "\n",
       "    .dataframe thead th {\n",
       "        text-align: right;\n",
       "    }\n",
       "</style>\n",
       "<table border=\"1\" class=\"dataframe\">\n",
       "  <thead>\n",
       "    <tr style=\"text-align: right;\">\n",
       "      <th></th>\n",
       "      <th>var1(t-3)</th>\n",
       "      <th>var2(t-3)</th>\n",
       "      <th>var3(t-3)</th>\n",
       "      <th>var4(t-3)</th>\n",
       "      <th>var5(t-3)</th>\n",
       "      <th>var6(t-3)</th>\n",
       "      <th>var7(t-3)</th>\n",
       "      <th>var8(t-3)</th>\n",
       "      <th>var9(t-3)</th>\n",
       "      <th>var10(t-3)</th>\n",
       "      <th>...</th>\n",
       "      <th>var2(t)</th>\n",
       "      <th>var3(t)</th>\n",
       "      <th>var4(t)</th>\n",
       "      <th>var5(t)</th>\n",
       "      <th>var6(t)</th>\n",
       "      <th>var7(t)</th>\n",
       "      <th>var8(t)</th>\n",
       "      <th>var9(t)</th>\n",
       "      <th>var10(t)</th>\n",
       "      <th>var11(t)</th>\n",
       "    </tr>\n",
       "  </thead>\n",
       "  <tbody>\n",
       "    <tr>\n",
       "      <th>3</th>\n",
       "      <td>0.636816</td>\n",
       "      <td>0.295738</td>\n",
       "      <td>0.337945</td>\n",
       "      <td>0.631157</td>\n",
       "      <td>0.0</td>\n",
       "      <td>0.011366</td>\n",
       "      <td>0.782418</td>\n",
       "      <td>1.0</td>\n",
       "      <td>0.833333</td>\n",
       "      <td>0.739130</td>\n",
       "      <td>...</td>\n",
       "      <td>0.096987</td>\n",
       "      <td>0.315987</td>\n",
       "      <td>0.481110</td>\n",
       "      <td>0.0</td>\n",
       "      <td>0.000000</td>\n",
       "      <td>0.778809</td>\n",
       "      <td>1.0</td>\n",
       "      <td>0.833333</td>\n",
       "      <td>0.869565</td>\n",
       "      <td>0.0</td>\n",
       "    </tr>\n",
       "    <tr>\n",
       "      <th>4</th>\n",
       "      <td>0.545045</td>\n",
       "      <td>0.103358</td>\n",
       "      <td>0.335501</td>\n",
       "      <td>0.541487</td>\n",
       "      <td>0.0</td>\n",
       "      <td>0.144652</td>\n",
       "      <td>0.782676</td>\n",
       "      <td>1.0</td>\n",
       "      <td>0.833333</td>\n",
       "      <td>0.782609</td>\n",
       "      <td>...</td>\n",
       "      <td>0.099010</td>\n",
       "      <td>0.434417</td>\n",
       "      <td>0.449904</td>\n",
       "      <td>0.0</td>\n",
       "      <td>0.008973</td>\n",
       "      <td>0.798917</td>\n",
       "      <td>1.0</td>\n",
       "      <td>0.833333</td>\n",
       "      <td>0.913043</td>\n",
       "      <td>0.0</td>\n",
       "    </tr>\n",
       "    <tr>\n",
       "      <th>5</th>\n",
       "      <td>0.509006</td>\n",
       "      <td>0.110073</td>\n",
       "      <td>0.283802</td>\n",
       "      <td>0.502152</td>\n",
       "      <td>0.0</td>\n",
       "      <td>0.030869</td>\n",
       "      <td>0.774169</td>\n",
       "      <td>1.0</td>\n",
       "      <td>0.833333</td>\n",
       "      <td>0.826087</td>\n",
       "      <td>...</td>\n",
       "      <td>0.072536</td>\n",
       "      <td>0.495847</td>\n",
       "      <td>0.323529</td>\n",
       "      <td>0.0</td>\n",
       "      <td>0.002872</td>\n",
       "      <td>0.205723</td>\n",
       "      <td>1.0</td>\n",
       "      <td>0.833333</td>\n",
       "      <td>0.956522</td>\n",
       "      <td>0.0</td>\n",
       "    </tr>\n",
       "    <tr>\n",
       "      <th>6</th>\n",
       "      <td>0.488550</td>\n",
       "      <td>0.096987</td>\n",
       "      <td>0.315987</td>\n",
       "      <td>0.481110</td>\n",
       "      <td>0.0</td>\n",
       "      <td>0.000000</td>\n",
       "      <td>0.778809</td>\n",
       "      <td>1.0</td>\n",
       "      <td>0.833333</td>\n",
       "      <td>0.869565</td>\n",
       "      <td>...</td>\n",
       "      <td>0.092251</td>\n",
       "      <td>0.567188</td>\n",
       "      <td>0.301052</td>\n",
       "      <td>0.0</td>\n",
       "      <td>0.001795</td>\n",
       "      <td>0.000000</td>\n",
       "      <td>1.0</td>\n",
       "      <td>0.833333</td>\n",
       "      <td>1.000000</td>\n",
       "      <td>0.0</td>\n",
       "    </tr>\n",
       "    <tr>\n",
       "      <th>7</th>\n",
       "      <td>0.455597</td>\n",
       "      <td>0.099010</td>\n",
       "      <td>0.434417</td>\n",
       "      <td>0.449904</td>\n",
       "      <td>0.0</td>\n",
       "      <td>0.008973</td>\n",
       "      <td>0.798917</td>\n",
       "      <td>1.0</td>\n",
       "      <td>0.833333</td>\n",
       "      <td>0.913043</td>\n",
       "      <td>...</td>\n",
       "      <td>0.132286</td>\n",
       "      <td>0.580314</td>\n",
       "      <td>0.273434</td>\n",
       "      <td>0.0</td>\n",
       "      <td>0.010050</td>\n",
       "      <td>0.000000</td>\n",
       "      <td>1.0</td>\n",
       "      <td>1.000000</td>\n",
       "      <td>0.000000</td>\n",
       "      <td>0.0</td>\n",
       "    </tr>\n",
       "  </tbody>\n",
       "</table>\n",
       "<p>5 rows × 44 columns</p>\n",
       "</div>"
      ],
      "text/plain": [
       "   var1(t-3)  var2(t-3)  var3(t-3)  var4(t-3)  var5(t-3)  var6(t-3)  \\\n",
       "3   0.636816   0.295738   0.337945   0.631157        0.0   0.011366   \n",
       "4   0.545045   0.103358   0.335501   0.541487        0.0   0.144652   \n",
       "5   0.509006   0.110073   0.283802   0.502152        0.0   0.030869   \n",
       "6   0.488550   0.096987   0.315987   0.481110        0.0   0.000000   \n",
       "7   0.455597   0.099010   0.434417   0.449904        0.0   0.008973   \n",
       "\n",
       "   var7(t-3)  var8(t-3)  var9(t-3)  var10(t-3)    ...      var2(t)   var3(t)  \\\n",
       "3   0.782418        1.0   0.833333    0.739130    ...     0.096987  0.315987   \n",
       "4   0.782676        1.0   0.833333    0.782609    ...     0.099010  0.434417   \n",
       "5   0.774169        1.0   0.833333    0.826087    ...     0.072536  0.495847   \n",
       "6   0.778809        1.0   0.833333    0.869565    ...     0.092251  0.567188   \n",
       "7   0.798917        1.0   0.833333    0.913043    ...     0.132286  0.580314   \n",
       "\n",
       "    var4(t)  var5(t)   var6(t)   var7(t)  var8(t)   var9(t)  var10(t)  \\\n",
       "3  0.481110      0.0  0.000000  0.778809      1.0  0.833333  0.869565   \n",
       "4  0.449904      0.0  0.008973  0.798917      1.0  0.833333  0.913043   \n",
       "5  0.323529      0.0  0.002872  0.205723      1.0  0.833333  0.956522   \n",
       "6  0.301052      0.0  0.001795  0.000000      1.0  0.833333  1.000000   \n",
       "7  0.273434      0.0  0.010050  0.000000      1.0  1.000000  0.000000   \n",
       "\n",
       "   var11(t)  \n",
       "3       0.0  \n",
       "4       0.0  \n",
       "5       0.0  \n",
       "6       0.0  \n",
       "7       0.0  \n",
       "\n",
       "[5 rows x 44 columns]"
      ]
     },
     "execution_count": 12,
     "metadata": {},
     "output_type": "execute_result"
    }
   ],
   "source": [
    "reframed.head()"
   ]
  },
  {
   "cell_type": "markdown",
   "metadata": {},
   "source": [
    "Predict only Global active power (var1) at time t"
   ]
  },
  {
   "cell_type": "code",
   "execution_count": 13,
   "metadata": {},
   "outputs": [],
   "source": [
    "reframed.drop(reframed.columns[-10:], axis=1, inplace=True)"
   ]
  },
  {
   "cell_type": "code",
   "execution_count": 14,
   "metadata": {},
   "outputs": [
    {
     "data": {
      "text/html": [
       "<div>\n",
       "<style scoped>\n",
       "    .dataframe tbody tr th:only-of-type {\n",
       "        vertical-align: middle;\n",
       "    }\n",
       "\n",
       "    .dataframe tbody tr th {\n",
       "        vertical-align: top;\n",
       "    }\n",
       "\n",
       "    .dataframe thead th {\n",
       "        text-align: right;\n",
       "    }\n",
       "</style>\n",
       "<table border=\"1\" class=\"dataframe\">\n",
       "  <thead>\n",
       "    <tr style=\"text-align: right;\">\n",
       "      <th></th>\n",
       "      <th>var1(t-3)</th>\n",
       "      <th>var2(t-3)</th>\n",
       "      <th>var3(t-3)</th>\n",
       "      <th>var4(t-3)</th>\n",
       "      <th>var5(t-3)</th>\n",
       "      <th>var6(t-3)</th>\n",
       "      <th>var7(t-3)</th>\n",
       "      <th>var8(t-3)</th>\n",
       "      <th>var9(t-3)</th>\n",
       "      <th>var10(t-3)</th>\n",
       "      <th>...</th>\n",
       "      <th>var3(t-1)</th>\n",
       "      <th>var4(t-1)</th>\n",
       "      <th>var5(t-1)</th>\n",
       "      <th>var6(t-1)</th>\n",
       "      <th>var7(t-1)</th>\n",
       "      <th>var8(t-1)</th>\n",
       "      <th>var9(t-1)</th>\n",
       "      <th>var10(t-1)</th>\n",
       "      <th>var11(t-1)</th>\n",
       "      <th>var1(t)</th>\n",
       "    </tr>\n",
       "  </thead>\n",
       "  <tbody>\n",
       "    <tr>\n",
       "      <th>3</th>\n",
       "      <td>0.636816</td>\n",
       "      <td>0.295738</td>\n",
       "      <td>0.337945</td>\n",
       "      <td>0.631157</td>\n",
       "      <td>0.0</td>\n",
       "      <td>0.011366</td>\n",
       "      <td>0.782418</td>\n",
       "      <td>1.0</td>\n",
       "      <td>0.833333</td>\n",
       "      <td>0.739130</td>\n",
       "      <td>...</td>\n",
       "      <td>0.283802</td>\n",
       "      <td>0.502152</td>\n",
       "      <td>0.0</td>\n",
       "      <td>0.030869</td>\n",
       "      <td>0.774169</td>\n",
       "      <td>1.0</td>\n",
       "      <td>0.833333</td>\n",
       "      <td>0.826087</td>\n",
       "      <td>0.0</td>\n",
       "      <td>0.488550</td>\n",
       "    </tr>\n",
       "    <tr>\n",
       "      <th>4</th>\n",
       "      <td>0.545045</td>\n",
       "      <td>0.103358</td>\n",
       "      <td>0.335501</td>\n",
       "      <td>0.541487</td>\n",
       "      <td>0.0</td>\n",
       "      <td>0.144652</td>\n",
       "      <td>0.782676</td>\n",
       "      <td>1.0</td>\n",
       "      <td>0.833333</td>\n",
       "      <td>0.782609</td>\n",
       "      <td>...</td>\n",
       "      <td>0.315987</td>\n",
       "      <td>0.481110</td>\n",
       "      <td>0.0</td>\n",
       "      <td>0.000000</td>\n",
       "      <td>0.778809</td>\n",
       "      <td>1.0</td>\n",
       "      <td>0.833333</td>\n",
       "      <td>0.869565</td>\n",
       "      <td>0.0</td>\n",
       "      <td>0.455597</td>\n",
       "    </tr>\n",
       "    <tr>\n",
       "      <th>5</th>\n",
       "      <td>0.509006</td>\n",
       "      <td>0.110073</td>\n",
       "      <td>0.283802</td>\n",
       "      <td>0.502152</td>\n",
       "      <td>0.0</td>\n",
       "      <td>0.030869</td>\n",
       "      <td>0.774169</td>\n",
       "      <td>1.0</td>\n",
       "      <td>0.833333</td>\n",
       "      <td>0.826087</td>\n",
       "      <td>...</td>\n",
       "      <td>0.434417</td>\n",
       "      <td>0.449904</td>\n",
       "      <td>0.0</td>\n",
       "      <td>0.008973</td>\n",
       "      <td>0.798917</td>\n",
       "      <td>1.0</td>\n",
       "      <td>0.833333</td>\n",
       "      <td>0.913043</td>\n",
       "      <td>0.0</td>\n",
       "      <td>0.322555</td>\n",
       "    </tr>\n",
       "    <tr>\n",
       "      <th>6</th>\n",
       "      <td>0.488550</td>\n",
       "      <td>0.096987</td>\n",
       "      <td>0.315987</td>\n",
       "      <td>0.481110</td>\n",
       "      <td>0.0</td>\n",
       "      <td>0.000000</td>\n",
       "      <td>0.778809</td>\n",
       "      <td>1.0</td>\n",
       "      <td>0.833333</td>\n",
       "      <td>0.869565</td>\n",
       "      <td>...</td>\n",
       "      <td>0.495847</td>\n",
       "      <td>0.323529</td>\n",
       "      <td>0.0</td>\n",
       "      <td>0.002872</td>\n",
       "      <td>0.205723</td>\n",
       "      <td>1.0</td>\n",
       "      <td>0.833333</td>\n",
       "      <td>0.956522</td>\n",
       "      <td>0.0</td>\n",
       "      <td>0.301032</td>\n",
       "    </tr>\n",
       "    <tr>\n",
       "      <th>7</th>\n",
       "      <td>0.455597</td>\n",
       "      <td>0.099010</td>\n",
       "      <td>0.434417</td>\n",
       "      <td>0.449904</td>\n",
       "      <td>0.0</td>\n",
       "      <td>0.008973</td>\n",
       "      <td>0.798917</td>\n",
       "      <td>1.0</td>\n",
       "      <td>0.833333</td>\n",
       "      <td>0.913043</td>\n",
       "      <td>...</td>\n",
       "      <td>0.567188</td>\n",
       "      <td>0.301052</td>\n",
       "      <td>0.0</td>\n",
       "      <td>0.001795</td>\n",
       "      <td>0.000000</td>\n",
       "      <td>1.0</td>\n",
       "      <td>0.833333</td>\n",
       "      <td>1.000000</td>\n",
       "      <td>0.0</td>\n",
       "      <td>0.273201</td>\n",
       "    </tr>\n",
       "  </tbody>\n",
       "</table>\n",
       "<p>5 rows × 34 columns</p>\n",
       "</div>"
      ],
      "text/plain": [
       "   var1(t-3)  var2(t-3)  var3(t-3)  var4(t-3)  var5(t-3)  var6(t-3)  \\\n",
       "3   0.636816   0.295738   0.337945   0.631157        0.0   0.011366   \n",
       "4   0.545045   0.103358   0.335501   0.541487        0.0   0.144652   \n",
       "5   0.509006   0.110073   0.283802   0.502152        0.0   0.030869   \n",
       "6   0.488550   0.096987   0.315987   0.481110        0.0   0.000000   \n",
       "7   0.455597   0.099010   0.434417   0.449904        0.0   0.008973   \n",
       "\n",
       "   var7(t-3)  var8(t-3)  var9(t-3)  var10(t-3)    ...     var3(t-1)  \\\n",
       "3   0.782418        1.0   0.833333    0.739130    ...      0.283802   \n",
       "4   0.782676        1.0   0.833333    0.782609    ...      0.315987   \n",
       "5   0.774169        1.0   0.833333    0.826087    ...      0.434417   \n",
       "6   0.778809        1.0   0.833333    0.869565    ...      0.495847   \n",
       "7   0.798917        1.0   0.833333    0.913043    ...      0.567188   \n",
       "\n",
       "   var4(t-1)  var5(t-1)  var6(t-1)  var7(t-1)  var8(t-1)  var9(t-1)  \\\n",
       "3   0.502152        0.0   0.030869   0.774169        1.0   0.833333   \n",
       "4   0.481110        0.0   0.000000   0.778809        1.0   0.833333   \n",
       "5   0.449904        0.0   0.008973   0.798917        1.0   0.833333   \n",
       "6   0.323529        0.0   0.002872   0.205723        1.0   0.833333   \n",
       "7   0.301052        0.0   0.001795   0.000000        1.0   0.833333   \n",
       "\n",
       "   var10(t-1)  var11(t-1)   var1(t)  \n",
       "3    0.826087         0.0  0.488550  \n",
       "4    0.869565         0.0  0.455597  \n",
       "5    0.913043         0.0  0.322555  \n",
       "6    0.956522         0.0  0.301032  \n",
       "7    1.000000         0.0  0.273201  \n",
       "\n",
       "[5 rows x 34 columns]"
      ]
     },
     "execution_count": 14,
     "metadata": {},
     "output_type": "execute_result"
    }
   ],
   "source": [
    "reframed.head()"
   ]
  },
  {
   "cell_type": "code",
   "execution_count": 15,
   "metadata": {},
   "outputs": [
    {
     "data": {
      "text/plain": [
       "(34586, 34)"
      ]
     },
     "execution_count": 15,
     "metadata": {},
     "output_type": "execute_result"
    }
   ],
   "source": [
    "reframed.shape"
   ]
  },
  {
   "cell_type": "markdown",
   "metadata": {},
   "source": [
    "### Split the data to train, validation and test set"
   ]
  },
  {
   "cell_type": "code",
   "execution_count": 16,
   "metadata": {},
   "outputs": [],
   "source": [
    "values = reframed.values\n",
    "\n",
    "n_train_time = 365 * 24  # 8760\n",
    "n_valid_time = 2 * 365 * 24\n",
    "train = values[:n_train_time, :]\n",
    "validation = values[n_train_time:n_valid_time, :]\n",
    "test = values[n_valid_time:, :]"
   ]
  },
  {
   "cell_type": "code",
   "execution_count": 17,
   "metadata": {},
   "outputs": [],
   "source": [
    "# shuffle the train set\n",
    "np.random.shuffle(train)"
   ]
  },
  {
   "cell_type": "code",
   "execution_count": 18,
   "metadata": {},
   "outputs": [],
   "source": [
    "# split into inputs and outputs\n",
    "train_X, train_y = train[:, :-1], train[:, -1]\n",
    "valid_X, valid_y = validation[:, :-1], validation[:, -1]\n",
    "test_X, test_y = test[:, :-1], test[:, -1]"
   ]
  },
  {
   "cell_type": "code",
   "execution_count": 19,
   "metadata": {},
   "outputs": [
    {
     "data": {
      "text/plain": [
       "(8760, 33)"
      ]
     },
     "execution_count": 19,
     "metadata": {},
     "output_type": "execute_result"
    }
   ],
   "source": [
    "train_X.shape"
   ]
  },
  {
   "cell_type": "code",
   "execution_count": 20,
   "metadata": {},
   "outputs": [
    {
     "data": {
      "text/plain": [
       "(8760,)"
      ]
     },
     "execution_count": 20,
     "metadata": {},
     "output_type": "execute_result"
    }
   ],
   "source": [
    "train_y.shape"
   ]
  },
  {
   "cell_type": "markdown",
   "metadata": {},
   "source": [
    "Reshape input to be 3D [samples, timesteps, features]"
   ]
  },
  {
   "cell_type": "code",
   "execution_count": 21,
   "metadata": {},
   "outputs": [],
   "source": [
    "train_X = train_X.reshape((train_X.shape[0], 3, train_X.shape[1]//3))\n",
    "valid_X = valid_X.reshape((valid_X.shape[0], 3, valid_X.shape[1]//3))\n",
    "test_X = test_X.reshape((test_X.shape[0], 3, test_X.shape[1]//3))"
   ]
  },
  {
   "cell_type": "code",
   "execution_count": 22,
   "metadata": {},
   "outputs": [
    {
     "data": {
      "text/plain": [
       "(8760, 3, 11)"
      ]
     },
     "execution_count": 22,
     "metadata": {},
     "output_type": "execute_result"
    }
   ],
   "source": [
    "train_X.shape"
   ]
  },
  {
   "cell_type": "code",
   "execution_count": 23,
   "metadata": {},
   "outputs": [
    {
     "data": {
      "text/plain": [
       "(8760,)"
      ]
     },
     "execution_count": 23,
     "metadata": {},
     "output_type": "execute_result"
    }
   ],
   "source": [
    "train_y.shape"
   ]
  },
  {
   "cell_type": "markdown",
   "metadata": {},
   "source": [
    "Reshape target: subsempling every 3rd row"
   ]
  },
  {
   "cell_type": "code",
   "execution_count": 99,
   "metadata": {},
   "outputs": [],
   "source": [
    "#train_y = train_y[2::3]\n",
    "#valid_y = valid_y[2::3]\n",
    "#test_y = test_y[2::3]"
   ]
  },
  {
   "cell_type": "markdown",
   "metadata": {},
   "source": [
    "### Model architecture\n",
    "\n",
    " - LSTM with 100 neurons in the first visible layer \n",
    " - Dropout is 20%\n",
    " - 1 neuron in the output layer for predicting global active energy. \n",
    " - The input shape will be 3 time step each with 11 features.\n",
    " - Mean Absolute Error (MAE) loss function and the efficient Adam version of stochastic gradient descent."
   ]
  },
  {
   "cell_type": "code",
   "execution_count": 24,
   "metadata": {},
   "outputs": [],
   "source": [
    "model = Sequential()\n",
    "model.add(LSTM(100, input_shape=(train_X.shape[1], train_X.shape[2])))\n",
    "model.add(Dropout(0.2))\n",
    "#    model.add(LSTM(70))\n",
    "#    model.add(Dropout(0.3))\n",
    "model.add(Dense(1))\n",
    "model.compile(loss='mean_squared_error', optimizer='adam')"
   ]
  },
  {
   "cell_type": "markdown",
   "metadata": {},
   "source": [
    "### Fit network\n",
    " - 20 training epochs with a batch size of 70."
   ]
  },
  {
   "cell_type": "code",
   "execution_count": 25,
   "metadata": {},
   "outputs": [
    {
     "name": "stdout",
     "output_type": "stream",
     "text": [
      "Train on 8760 samples, validate on 8760 samples\n",
      "Epoch 1/20\n",
      " - 2s - loss: 0.0159 - val_loss: 0.0114\n",
      "Epoch 2/20\n",
      " - 1s - loss: 0.0123 - val_loss: 0.0104\n",
      "Epoch 3/20\n",
      " - 1s - loss: 0.0113 - val_loss: 0.0100\n",
      "Epoch 4/20\n",
      " - 1s - loss: 0.0107 - val_loss: 0.0096\n",
      "Epoch 5/20\n",
      " - 1s - loss: 0.0104 - val_loss: 0.0095\n",
      "Epoch 6/20\n",
      " - 1s - loss: 0.0102 - val_loss: 0.0093\n",
      "Epoch 7/20\n",
      " - 1s - loss: 0.0100 - val_loss: 0.0093\n",
      "Epoch 8/20\n",
      " - 1s - loss: 0.0099 - val_loss: 0.0094\n",
      "Epoch 9/20\n",
      " - 1s - loss: 0.0099 - val_loss: 0.0093\n",
      "Epoch 10/20\n",
      " - 1s - loss: 0.0098 - val_loss: 0.0093\n",
      "Epoch 11/20\n",
      " - 1s - loss: 0.0097 - val_loss: 0.0094\n",
      "Epoch 12/20\n",
      " - 1s - loss: 0.0096 - val_loss: 0.0095\n",
      "Epoch 13/20\n",
      " - 1s - loss: 0.0097 - val_loss: 0.0093\n",
      "Epoch 14/20\n",
      " - 1s - loss: 0.0096 - val_loss: 0.0092\n",
      "Epoch 15/20\n",
      " - 1s - loss: 0.0096 - val_loss: 0.0093\n",
      "Epoch 16/20\n",
      " - 1s - loss: 0.0095 - val_loss: 0.0091\n",
      "Epoch 17/20\n",
      " - 1s - loss: 0.0095 - val_loss: 0.0092\n",
      "Epoch 18/20\n",
      " - 1s - loss: 0.0094 - val_loss: 0.0091\n",
      "Epoch 19/20\n",
      " - 1s - loss: 0.0095 - val_loss: 0.0090\n",
      "Epoch 20/20\n",
      " - 1s - loss: 0.0094 - val_loss: 0.0090\n"
     ]
    }
   ],
   "source": [
    "history = model.fit(train_X, train_y, epochs=20, batch_size=70, validation_data=(valid_X, valid_y), \n",
    "                    verbose=2, shuffle=False)"
   ]
  },
  {
   "cell_type": "code",
   "execution_count": 26,
   "metadata": {
    "scrolled": true
   },
   "outputs": [
    {
     "data": {
      "image/png": "[encoded data removed]",
      "text/plain": [
       "<Figure size 432x288 with 1 Axes>"
      ]
     },
     "metadata": {},
     "output_type": "display_data"
    }
   ],
   "source": [
    "plt.figure()\n",
    "plt.plot(history.history['loss'])\n",
    "plt.plot(history.history['val_loss'])\n",
    "plt.title('model loss')\n",
    "plt.ylabel('loss')\n",
    "plt.xlabel('epoch')\n",
    "plt.legend(['train', 'valid'], loc='upper right')\n",
    "plt.show()"
   ]
  },
  {
   "cell_type": "code",
   "execution_count": 27,
   "metadata": {},
   "outputs": [
    {
     "data": {
      "text/plain": [
       "(17066, 3, 11)"
      ]
     },
     "execution_count": 27,
     "metadata": {},
     "output_type": "execute_result"
    }
   ],
   "source": [
    "test_X.shape"
   ]
  },
  {
   "cell_type": "code",
   "execution_count": 28,
   "metadata": {},
   "outputs": [],
   "source": [
    "yhat = model.predict(test_X)"
   ]
  },
  {
   "cell_type": "code",
   "execution_count": 29,
   "metadata": {},
   "outputs": [
    {
     "data": {
      "text/plain": [
       "(17066, 1)"
      ]
     },
     "execution_count": 29,
     "metadata": {},
     "output_type": "execute_result"
    }
   ],
   "source": [
    "yhat.shape"
   ]
  },
  {
   "cell_type": "code",
   "execution_count": 30,
   "metadata": {},
   "outputs": [],
   "source": [
    "test_X = test_X.reshape((test_X.shape[0], 11*3))"
   ]
  },
  {
   "cell_type": "markdown",
   "metadata": {},
   "source": [
    "Invert scaling"
   ]
  },
  {
   "cell_type": "code",
   "execution_count": 31,
   "metadata": {},
   "outputs": [
    {
     "data": {
      "text/plain": [
       "(17066, 33)"
      ]
     },
     "execution_count": 31,
     "metadata": {},
     "output_type": "execute_result"
    }
   ],
   "source": [
    "test_X.shape"
   ]
  },
  {
   "cell_type": "code",
   "execution_count": 36,
   "metadata": {},
   "outputs": [],
   "source": [
    "inv_yhat = np.concatenate((yhat, test_X[:,-10:]), axis=1)\n",
    "inv_yhat = scaler.inverse_transform(inv_yhat)\n",
    "inv_yhat = inv_yhat[:,0]\n",
    "\n",
    "test_y = test_y.reshape((len(test_y), 1))\n",
    "inv_y = np.concatenate((test_y, test_X[:,-10:]), axis=1)\n",
    "inv_y = scaler.inverse_transform(inv_y)\n",
    "inv_y = inv_y[:,0]"
   ]
  },
  {
   "cell_type": "markdown",
   "metadata": {},
   "source": [
    "Calculate RMSE"
   ]
  },
  {
   "cell_type": "code",
   "execution_count": 37,
   "metadata": {},
   "outputs": [
    {
     "name": "stdout",
     "output_type": "stream",
     "text": [
      "Test RMSE: 0.562\n"
     ]
    }
   ],
   "source": [
    "rmse = np.sqrt(mean_squared_error(inv_y, inv_yhat))\n",
    "print('Test RMSE: %.3f' % rmse)"
   ]
  },
  {
   "cell_type": "code",
   "execution_count": 38,
   "metadata": {},
   "outputs": [
    {
     "data": {
      "image/png": "[encoded data removed]",
      "text/plain": [
       "<Figure size 1440x720 with 1 Axes>"
      ]
     },
     "metadata": {},
     "output_type": "display_data"
    }
   ],
   "source": [
    "# compare the predictions in 15 days. \n",
    "\n",
    "compate_time = 24*15\n",
    "aa=[x for x in range(compate_time)]\n",
    "plt.figure(figsize=[20, 10])\n",
    "plt.plot(aa, inv_y[:compate_time], marker='.', label=\"actual\")\n",
    "plt.plot(aa, inv_yhat[:compate_time], 'r', label=\"prediction\")\n",
    "plt.ylabel('Global_active_power', size=15)\n",
    "plt.xlabel('Time step', size=15)\n",
    "plt.legend(fontsize=15)\n",
    "plt.show()"
   ]
  },
  {
   "cell_type": "code",
   "execution_count": null,
   "metadata": {},
   "outputs": [],
   "source": []
  }
 ],
 "metadata": {
  "kernelspec": {
   "display_name": "Python 3",
   "language": "python",
   "name": "python3"
  },
  "language_info": {
   "codemirror_mode": {
    "name": "ipython",
    "version": 3
   },
   "file_extension": ".py",
   "mimetype": "text/x-python",
   "name": "python",
   "nbconvert_exporter": "python",
   "pygments_lexer": "ipython3",
   "version": "3.6.5"
  }
 },
 "nbformat": 4,
 "nbformat_minor": 2
}
