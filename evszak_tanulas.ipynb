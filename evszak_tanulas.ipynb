{
 "cells": [
  {
   "cell_type": "markdown",
   "metadata": {},
   "source": [
    "# Aktuális évszak következtetése lakossági áramfogyasztásból\n",
    "Házi feladatomban arra a kérdésre kerestem a választ, meg lehet-e állapítani egy adott napszakban, különböző árammal kapcsolatos adatokból, éppen milyen évszak van.\n",
    "\n",
    "Ehhez szükséges volt az adatok átalakítása, sorok összegzése adott napszakokon belül. Munkám során 4 órás idősávokra osztottam a napot.\n",
    "\n",
    "A tanuláshoz döntési fát és gradiens boostingot használtam."
   ]
  },
  {
   "cell_type": "code",
   "execution_count": 1,
   "metadata": {},
   "outputs": [],
   "source": [
    "import pandas as pd\n",
    "from sklearn import tree\n",
    "from sklearn.ensemble import GradientBoostingClassifier\n",
    "import math\n",
    "import matplotlib.pyplot as plt\n",
    "import numpy as np"
   ]
  },
  {
   "cell_type": "markdown",
   "metadata": {},
   "source": [
    "## Beolvasás és átalakítás"
   ]
  },
  {
   "cell_type": "code",
   "execution_count": 2,
   "metadata": {},
   "outputs": [
    {
     "data": {
      "text/html": [
       "<div>\n",
       "<style scoped>\n",
       "    .dataframe tbody tr th:only-of-type {\n",
       "        vertical-align: middle;\n",
       "    }\n",
       "\n",
       "    .dataframe tbody tr th {\n",
       "        vertical-align: top;\n",
       "    }\n",
       "\n",
       "    .dataframe thead th {\n",
       "        text-align: right;\n",
       "    }\n",
       "</style>\n",
       "<table border=\"1\" class=\"dataframe\">\n",
       "  <thead>\n",
       "    <tr style=\"text-align: right;\">\n",
       "      <th></th>\n",
       "      <th>Date</th>\n",
       "      <th>Time</th>\n",
       "      <th>Global_active_power</th>\n",
       "      <th>Global_reactive_power</th>\n",
       "      <th>Voltage</th>\n",
       "      <th>Global_intensity</th>\n",
       "      <th>Sub_metering_1</th>\n",
       "      <th>Sub_metering_2</th>\n",
       "      <th>Sub_metering_3</th>\n",
       "    </tr>\n",
       "  </thead>\n",
       "  <tbody>\n",
       "    <tr>\n",
       "      <th>0</th>\n",
       "      <td>16/12/2006</td>\n",
       "      <td>17:24:00</td>\n",
       "      <td>4.216</td>\n",
       "      <td>0.418</td>\n",
       "      <td>234.84</td>\n",
       "      <td>18.4</td>\n",
       "      <td>0.0</td>\n",
       "      <td>1.0</td>\n",
       "      <td>17.0</td>\n",
       "    </tr>\n",
       "    <tr>\n",
       "      <th>1</th>\n",
       "      <td>16/12/2006</td>\n",
       "      <td>17:25:00</td>\n",
       "      <td>5.360</td>\n",
       "      <td>0.436</td>\n",
       "      <td>233.63</td>\n",
       "      <td>23.0</td>\n",
       "      <td>0.0</td>\n",
       "      <td>1.0</td>\n",
       "      <td>16.0</td>\n",
       "    </tr>\n",
       "    <tr>\n",
       "      <th>2</th>\n",
       "      <td>16/12/2006</td>\n",
       "      <td>17:26:00</td>\n",
       "      <td>5.374</td>\n",
       "      <td>0.498</td>\n",
       "      <td>233.29</td>\n",
       "      <td>23.0</td>\n",
       "      <td>0.0</td>\n",
       "      <td>2.0</td>\n",
       "      <td>17.0</td>\n",
       "    </tr>\n",
       "    <tr>\n",
       "      <th>3</th>\n",
       "      <td>16/12/2006</td>\n",
       "      <td>17:27:00</td>\n",
       "      <td>5.388</td>\n",
       "      <td>0.502</td>\n",
       "      <td>233.74</td>\n",
       "      <td>23.0</td>\n",
       "      <td>0.0</td>\n",
       "      <td>1.0</td>\n",
       "      <td>17.0</td>\n",
       "    </tr>\n",
       "    <tr>\n",
       "      <th>4</th>\n",
       "      <td>16/12/2006</td>\n",
       "      <td>17:28:00</td>\n",
       "      <td>3.666</td>\n",
       "      <td>0.528</td>\n",
       "      <td>235.68</td>\n",
       "      <td>15.8</td>\n",
       "      <td>0.0</td>\n",
       "      <td>1.0</td>\n",
       "      <td>17.0</td>\n",
       "    </tr>\n",
       "  </tbody>\n",
       "</table>\n",
       "</div>"
      ],
      "text/plain": [
       "         Date      Time  Global_active_power  Global_reactive_power  Voltage  \\\n",
       "0  16/12/2006  17:24:00                4.216                  0.418   234.84   \n",
       "1  16/12/2006  17:25:00                5.360                  0.436   233.63   \n",
       "2  16/12/2006  17:26:00                5.374                  0.498   233.29   \n",
       "3  16/12/2006  17:27:00                5.388                  0.502   233.74   \n",
       "4  16/12/2006  17:28:00                3.666                  0.528   235.68   \n",
       "\n",
       "   Global_intensity  Sub_metering_1  Sub_metering_2  Sub_metering_3  \n",
       "0              18.4             0.0             1.0            17.0  \n",
       "1              23.0             0.0             1.0            16.0  \n",
       "2              23.0             0.0             2.0            17.0  \n",
       "3              23.0             0.0             1.0            17.0  \n",
       "4              15.8             0.0             1.0            17.0  "
      ]
     },
     "execution_count": 2,
     "metadata": {},
     "output_type": "execute_result"
    }
   ],
   "source": [
    "df = pd.read_csv('household_power_consumption.txt', sep=';', low_memory=False, na_values=['nan','?'], header=0,\n",
    "                 dtype={'Date': str, 'Time': str, 'Global_active_power': float, 'Global_reactive_power': float,\n",
    "                        'Voltage': float, 'Global_intensity': float,\n",
    "                        'Sub_metering_1': float, 'Sub_metering_2': float, 'Sub_metering_3': float})\n",
    "df = df.dropna()\n",
    "df.head()"
   ]
  },
  {
   "cell_type": "markdown",
   "metadata": {},
   "source": [
    "#### Dátum külön szedése évre és hónap/nap-ra, értékek összegzése 4 órás bontásokban"
   ]
  },
  {
   "cell_type": "code",
   "execution_count": 3,
   "metadata": {
    "scrolled": true
   },
   "outputs": [],
   "source": [
    "data = pd.DataFrame()\n",
    "data['Year'] = df.apply(lambda row: row['Date'][-4:], axis = 1)\n",
    "data['Date'] = df.apply(lambda row: row['Date'][:-5], axis = 1)\n",
    "data['TimeIdx'] = df.apply(lambda row: math.floor(int(row['Time'][:2])/4), axis = 1)\n",
    "\n",
    "data['Global_active_power'] = df['Global_active_power']\n",
    "data['Global_reactive_power'] = df ['Global_reactive_power']\n",
    "data['Voltage'] = df['Voltage']\n",
    "data['Global_intensity'] = df['Global_intensity']\n",
    "data['Sub_metering_1'] = df['Sub_metering_1']\n",
    "data['Sub_metering_2'] = df['Sub_metering_2']\n",
    "data['Sub_metering_3'] = df['Sub_metering_3']\n",
    "\n",
    "data = data.groupby(['Year', 'Date', 'TimeIdx']).sum().reset_index().drop(columns=['Year'])"
   ]
  },
  {
   "cell_type": "code",
   "execution_count": 4,
   "metadata": {},
   "outputs": [
    {
     "data": {
      "text/plain": [
       "(8550, 9)"
      ]
     },
     "execution_count": 4,
     "metadata": {},
     "output_type": "execute_result"
    }
   ],
   "source": [
    "data.shape"
   ]
  },
  {
   "cell_type": "markdown",
   "metadata": {},
   "source": [
    "#### Oszlopok helyettesítése statisztikai adatokkal: \n",
    "adott hónap adott napján, adott napszakban az értékek minimuma, maximuma, szórása és átlaga"
   ]
  },
  {
   "cell_type": "code",
   "execution_count": 5,
   "metadata": {},
   "outputs": [],
   "source": [
    "def calcGroupedBy(aggFunc):\n",
    "    return data.groupby(['Date', 'TimeIdx']).agg(aggFunc).reset_index().set_index(['Date', 'TimeIdx'])\n",
    "\n",
    "mins = calcGroupedBy('min')\n",
    "maxs = calcGroupedBy('max')\n",
    "means = calcGroupedBy('mean')\n",
    "variances = calcGroupedBy('var')"
   ]
  },
  {
   "cell_type": "code",
   "execution_count": 6,
   "metadata": {},
   "outputs": [],
   "source": [
    "stat_data = pd.DataFrame()\n",
    "\n",
    "for i in range(2,9):\n",
    "    col = data.columns[i]\n",
    "    stat_data[col + '_min'] = mins[col]\n",
    "    stat_data[col + '_max'] = maxs[col]\n",
    "    stat_data[col + '_mean'] = means[col]\n",
    "    stat_data[col + '_var'] = variances[col]\n",
    "    \n",
    "stat_data = stat_data.reset_index().dropna()"
   ]
  },
  {
   "cell_type": "markdown",
   "metadata": {},
   "source": [
    "#### Évszak oszlop előállítása: 1-tél, 2-tavasz, 3-nyár, 4-ősz"
   ]
  },
  {
   "cell_type": "code",
   "execution_count": 7,
   "metadata": {},
   "outputs": [
    {
     "data": {
      "text/html": [
       "<div>\n",
       "<style scoped>\n",
       "    .dataframe tbody tr th:only-of-type {\n",
       "        vertical-align: middle;\n",
       "    }\n",
       "\n",
       "    .dataframe tbody tr th {\n",
       "        vertical-align: top;\n",
       "    }\n",
       "\n",
       "    .dataframe thead th {\n",
       "        text-align: right;\n",
       "    }\n",
       "</style>\n",
       "<table border=\"1\" class=\"dataframe\">\n",
       "  <thead>\n",
       "    <tr style=\"text-align: right;\">\n",
       "      <th></th>\n",
       "      <th>TimeIdx</th>\n",
       "      <th>Global_active_power_min</th>\n",
       "      <th>Global_active_power_max</th>\n",
       "      <th>Global_active_power_mean</th>\n",
       "      <th>Global_active_power_var</th>\n",
       "      <th>Global_reactive_power_min</th>\n",
       "      <th>Global_reactive_power_max</th>\n",
       "      <th>Global_reactive_power_mean</th>\n",
       "      <th>Global_reactive_power_var</th>\n",
       "      <th>Voltage_min</th>\n",
       "      <th>...</th>\n",
       "      <th>Sub_metering_1_var</th>\n",
       "      <th>Sub_metering_2_min</th>\n",
       "      <th>Sub_metering_2_max</th>\n",
       "      <th>Sub_metering_2_mean</th>\n",
       "      <th>Sub_metering_2_var</th>\n",
       "      <th>Sub_metering_3_min</th>\n",
       "      <th>Sub_metering_3_max</th>\n",
       "      <th>Sub_metering_3_mean</th>\n",
       "      <th>Sub_metering_3_var</th>\n",
       "      <th>Season</th>\n",
       "    </tr>\n",
       "  </thead>\n",
       "  <tbody>\n",
       "    <tr>\n",
       "      <th>0</th>\n",
       "      <td>0</td>\n",
       "      <td>130.636</td>\n",
       "      <td>611.882</td>\n",
       "      <td>357.3205</td>\n",
       "      <td>56333.067796</td>\n",
       "      <td>17.010</td>\n",
       "      <td>24.952</td>\n",
       "      <td>20.7475</td>\n",
       "      <td>14.292033</td>\n",
       "      <td>58022.53</td>\n",
       "      <td>...</td>\n",
       "      <td>0.00</td>\n",
       "      <td>31.0</td>\n",
       "      <td>71.0</td>\n",
       "      <td>51.25</td>\n",
       "      <td>2.749167e+02</td>\n",
       "      <td>0.0</td>\n",
       "      <td>4303.0</td>\n",
       "      <td>1244.00</td>\n",
       "      <td>4.259531e+06</td>\n",
       "      <td>1</td>\n",
       "    </tr>\n",
       "    <tr>\n",
       "      <th>1</th>\n",
       "      <td>1</td>\n",
       "      <td>149.884</td>\n",
       "      <td>591.298</td>\n",
       "      <td>351.0290</td>\n",
       "      <td>46908.828652</td>\n",
       "      <td>14.802</td>\n",
       "      <td>22.970</td>\n",
       "      <td>19.3130</td>\n",
       "      <td>17.539767</td>\n",
       "      <td>57835.83</td>\n",
       "      <td>...</td>\n",
       "      <td>0.00</td>\n",
       "      <td>28.0</td>\n",
       "      <td>68.0</td>\n",
       "      <td>47.50</td>\n",
       "      <td>3.630000e+02</td>\n",
       "      <td>0.0</td>\n",
       "      <td>2475.0</td>\n",
       "      <td>903.00</td>\n",
       "      <td>1.281918e+06</td>\n",
       "      <td>1</td>\n",
       "    </tr>\n",
       "    <tr>\n",
       "      <th>2</th>\n",
       "      <td>2</td>\n",
       "      <td>164.194</td>\n",
       "      <td>649.536</td>\n",
       "      <td>341.9790</td>\n",
       "      <td>47497.188236</td>\n",
       "      <td>17.070</td>\n",
       "      <td>29.338</td>\n",
       "      <td>21.6630</td>\n",
       "      <td>28.412903</td>\n",
       "      <td>57400.30</td>\n",
       "      <td>...</td>\n",
       "      <td>150642.25</td>\n",
       "      <td>38.0</td>\n",
       "      <td>453.0</td>\n",
       "      <td>158.50</td>\n",
       "      <td>3.895633e+04</td>\n",
       "      <td>0.0</td>\n",
       "      <td>1169.0</td>\n",
       "      <td>713.75</td>\n",
       "      <td>2.505569e+05</td>\n",
       "      <td>1</td>\n",
       "    </tr>\n",
       "    <tr>\n",
       "      <th>3</th>\n",
       "      <td>3</td>\n",
       "      <td>68.328</td>\n",
       "      <td>478.910</td>\n",
       "      <td>323.4700</td>\n",
       "      <td>37979.050915</td>\n",
       "      <td>17.418</td>\n",
       "      <td>37.610</td>\n",
       "      <td>28.4510</td>\n",
       "      <td>75.211759</td>\n",
       "      <td>57359.96</td>\n",
       "      <td>...</td>\n",
       "      <td>465272.25</td>\n",
       "      <td>31.0</td>\n",
       "      <td>2119.0</td>\n",
       "      <td>566.00</td>\n",
       "      <td>1.072161e+06</td>\n",
       "      <td>0.0</td>\n",
       "      <td>2376.0</td>\n",
       "      <td>1044.00</td>\n",
       "      <td>1.287787e+06</td>\n",
       "      <td>1</td>\n",
       "    </tr>\n",
       "    <tr>\n",
       "      <th>4</th>\n",
       "      <td>4</td>\n",
       "      <td>252.700</td>\n",
       "      <td>528.028</td>\n",
       "      <td>346.3765</td>\n",
       "      <td>15288.925905</td>\n",
       "      <td>17.918</td>\n",
       "      <td>30.036</td>\n",
       "      <td>24.8295</td>\n",
       "      <td>25.615372</td>\n",
       "      <td>57177.49</td>\n",
       "      <td>...</td>\n",
       "      <td>185330.25</td>\n",
       "      <td>44.0</td>\n",
       "      <td>311.0</td>\n",
       "      <td>115.75</td>\n",
       "      <td>1.701958e+04</td>\n",
       "      <td>460.0</td>\n",
       "      <td>3417.0</td>\n",
       "      <td>1505.50</td>\n",
       "      <td>1.716187e+06</td>\n",
       "      <td>1</td>\n",
       "    </tr>\n",
       "  </tbody>\n",
       "</table>\n",
       "<p>5 rows × 30 columns</p>\n",
       "</div>"
      ],
      "text/plain": [
       "   TimeIdx  Global_active_power_min  Global_active_power_max  \\\n",
       "0        0                  130.636                  611.882   \n",
       "1        1                  149.884                  591.298   \n",
       "2        2                  164.194                  649.536   \n",
       "3        3                   68.328                  478.910   \n",
       "4        4                  252.700                  528.028   \n",
       "\n",
       "   Global_active_power_mean  Global_active_power_var  \\\n",
       "0                  357.3205             56333.067796   \n",
       "1                  351.0290             46908.828652   \n",
       "2                  341.9790             47497.188236   \n",
       "3                  323.4700             37979.050915   \n",
       "4                  346.3765             15288.925905   \n",
       "\n",
       "   Global_reactive_power_min  Global_reactive_power_max  \\\n",
       "0                     17.010                     24.952   \n",
       "1                     14.802                     22.970   \n",
       "2                     17.070                     29.338   \n",
       "3                     17.418                     37.610   \n",
       "4                     17.918                     30.036   \n",
       "\n",
       "   Global_reactive_power_mean  Global_reactive_power_var  Voltage_min   ...    \\\n",
       "0                     20.7475                  14.292033     58022.53   ...     \n",
       "1                     19.3130                  17.539767     57835.83   ...     \n",
       "2                     21.6630                  28.412903     57400.30   ...     \n",
       "3                     28.4510                  75.211759     57359.96   ...     \n",
       "4                     24.8295                  25.615372     57177.49   ...     \n",
       "\n",
       "   Sub_metering_1_var  Sub_metering_2_min  Sub_metering_2_max  \\\n",
       "0                0.00                31.0                71.0   \n",
       "1                0.00                28.0                68.0   \n",
       "2           150642.25                38.0               453.0   \n",
       "3           465272.25                31.0              2119.0   \n",
       "4           185330.25                44.0               311.0   \n",
       "\n",
       "   Sub_metering_2_mean  Sub_metering_2_var  Sub_metering_3_min  \\\n",
       "0                51.25        2.749167e+02                 0.0   \n",
       "1                47.50        3.630000e+02                 0.0   \n",
       "2               158.50        3.895633e+04                 0.0   \n",
       "3               566.00        1.072161e+06                 0.0   \n",
       "4               115.75        1.701958e+04               460.0   \n",
       "\n",
       "   Sub_metering_3_max  Sub_metering_3_mean  Sub_metering_3_var  Season  \n",
       "0              4303.0              1244.00        4.259531e+06       1  \n",
       "1              2475.0               903.00        1.281918e+06       1  \n",
       "2              1169.0               713.75        2.505569e+05       1  \n",
       "3              2376.0              1044.00        1.287787e+06       1  \n",
       "4              3417.0              1505.50        1.716187e+06       1  \n",
       "\n",
       "[5 rows x 30 columns]"
      ]
     },
     "execution_count": 7,
     "metadata": {},
     "output_type": "execute_result"
    }
   ],
   "source": [
    "def getSeason(date):\n",
    "    month = int(date.split(\"/\")[1])\n",
    "    if 2 < month & month <= 5:\n",
    "        return 2\n",
    "    if 5 < month & month <= 8:\n",
    "        return 3\n",
    "    if 8 < month & month <= 11:\n",
    "        return 4\n",
    "    return 1\n",
    "\n",
    "stat_data['Season'] = stat_data.apply(lambda row: getSeason(row['Date']), axis=1)\n",
    "stat_data = stat_data.drop(columns=['Date'])\n",
    "\n",
    "stat_data.head()"
   ]
  },
  {
   "cell_type": "code",
   "execution_count": 8,
   "metadata": {},
   "outputs": [
    {
     "data": {
      "text/plain": [
       "(2190, 30)"
      ]
     },
     "execution_count": 8,
     "metadata": {},
     "output_type": "execute_result"
    }
   ],
   "source": [
    "stat_data.shape"
   ]
  },
  {
   "cell_type": "markdown",
   "metadata": {},
   "source": [
    "## Döntési fa"
   ]
  },
  {
   "cell_type": "markdown",
   "metadata": {},
   "source": [
    "#### Tanító halmaz és teszthalmaz előállítása\n",
    "3:1 arányban"
   ]
  },
  {
   "cell_type": "code",
   "execution_count": 9,
   "metadata": {},
   "outputs": [
    {
     "name": "stdout",
     "output_type": "stream",
     "text": [
      "Train data size: 1642\n",
      "Test data size: 548\n"
     ]
    }
   ],
   "source": [
    "train_size = math.floor(stat_data.shape[0] / 4 * 3)\n",
    "test_size = stat_data.shape[0] - train_size\n",
    "print(\"Train data size: \" + str(train_size))\n",
    "print(\"Test data size: \" + str(test_size))\n",
    "\n",
    "training = stat_data.head(train_size).reset_index(drop=True)\n",
    "testing = stat_data.tail(test_size).reset_index(drop=True)\n",
    "\n",
    "training_samples = training.drop(columns=['Season']).values\n",
    "training_features = training['Season'].values\n",
    "\n",
    "testing_samples = testing.drop(columns=['Season']).values\n",
    "testing_features = testing['Season'].values"
   ]
  },
  {
   "cell_type": "markdown",
   "metadata": {},
   "source": [
    "#### Döntési fa felépítése"
   ]
  },
  {
   "cell_type": "code",
   "execution_count": 10,
   "metadata": {
    "scrolled": true
   },
   "outputs": [],
   "source": [
    "clf = tree.DecisionTreeClassifier(max_depth=10, max_features=0.4, class_weight='balanced')\n",
    "clf = clf.fit(training_samples, training_features)"
   ]
  },
  {
   "cell_type": "markdown",
   "metadata": {},
   "source": [
    "#### Pontosság összesítve\n",
    "Teszthalmazon tesztelve"
   ]
  },
  {
   "cell_type": "code",
   "execution_count": 11,
   "metadata": {},
   "outputs": [
    {
     "data": {
      "text/plain": [
       "0.6058394160583942"
      ]
     },
     "execution_count": 11,
     "metadata": {},
     "output_type": "execute_result"
    }
   ],
   "source": [
    "clf.score(testing_samples, testing_features)"
   ]
  },
  {
   "cell_type": "markdown",
   "metadata": {},
   "source": [
    "#### Eredmények kiértékelése\n",
    "Kétdimenziós tömbben összegezzük, hányszor fordult elő, hogy egy adat esetén A évszak volt a megoldás, és a fa B évszakot döntött."
   ]
  },
  {
   "cell_type": "code",
   "execution_count": 12,
   "metadata": {},
   "outputs": [
    {
     "data": {
      "text/plain": [
       "[[23, 34, 12, 78], [0, 8, 94, 15], [18, 69, 31, 28], [91, 27, 3, 17]]"
      ]
     },
     "execution_count": 12,
     "metadata": {},
     "output_type": "execute_result"
    }
   ],
   "source": [
    "def calcResultArray(testedFeatures):\n",
    "    # expected:     wi,sp,su,au    predicted:\n",
    "    resultArray = [[0, 0, 0, 0],  # wi\n",
    "                   [0, 0, 0, 0],  # sp\n",
    "                   [0, 0, 0, 0],  # su\n",
    "                   [0, 0, 0, 0]]  # au\n",
    "\n",
    "    \n",
    "    for i in range(len(testedFeatures)):\n",
    "        origin = testing_features[i]\n",
    "        predicted = testedFeatures[i]\n",
    "        oldValue = resultArray[predicted-1][origin-1]\n",
    "        resultArray[predicted-1][origin-1] = oldValue + 1\n",
    "\n",
    "    first = resultArray[0]\n",
    "    second = resultArray[1]\n",
    "    resultArray[0] = resultArray[3]\n",
    "    resultArray[1] = resultArray[2]\n",
    "    resultArray[2] = second\n",
    "    resultArray[3] = first\n",
    "\n",
    "    return resultArray\n",
    "\n",
    "treeResultArray = calcResultArray(clf.predict(testing_samples))\n",
    "treeResultArray"
   ]
  },
  {
   "cell_type": "markdown",
   "metadata": {},
   "source": [
    "#### Eredmény szemléltetése hődiagrammon"
   ]
  },
  {
   "cell_type": "code",
   "execution_count": 13,
   "metadata": {},
   "outputs": [
    {
     "data": {
      "image/png": "[encoded data removed]",
      "text/plain": [
       "<Figure size 432x288 with 2 Axes>"
      ]
     },
     "metadata": {},
     "output_type": "display_data"
    }
   ],
   "source": [
    "def plotResultArray(array):\n",
    "    fig, ax = plt.subplots()\n",
    "    im = ax.imshow(array)\n",
    "    fig.colorbar(im)\n",
    "    ax.set_xticklabels(['', 'winter', 'spring', 'summer', 'autumn'])\n",
    "    ax.set_yticklabels(['', 'autumn', '', 'summer', '', 'spring', '', 'winter'])\n",
    "    ax.set_xlabel('Jósolt évszak')\n",
    "    ax.set_ylabel('Eredeti évszak')\n",
    "    plt.title('Betanított fa tesztelésének eredménye')\n",
    "    plt.show()\n",
    "    \n",
    "plotResultArray(treeResultArray)"
   ]
  },
  {
   "cell_type": "markdown",
   "metadata": {},
   "source": [
    "## Gradient Boosting Klasszifikáció"
   ]
  },
  {
   "cell_type": "markdown",
   "metadata": {},
   "source": [
    "#### Modell építése\n",
    "Ugyanazon a tanító és teszthalmazon, mint a döntési fánál"
   ]
  },
  {
   "cell_type": "code",
   "execution_count": 14,
   "metadata": {},
   "outputs": [
    {
     "data": {
      "text/plain": [
       "GradientBoostingClassifier(criterion='friedman_mse', init=None,\n",
       "              learning_rate=0.1, loss='deviance', max_depth=10,\n",
       "              max_features=0.4, max_leaf_nodes=None,\n",
       "              min_impurity_decrease=0.0, min_impurity_split=None,\n",
       "              min_samples_leaf=1, min_samples_split=2,\n",
       "              min_weight_fraction_leaf=0.0, n_estimators=100,\n",
       "              n_iter_no_change=None, presort='auto', random_state=None,\n",
       "              subsample=1.0, tol=0.0001, validation_fraction=0.1,\n",
       "              verbose=0, warm_start=False)"
      ]
     },
     "execution_count": 14,
     "metadata": {},
     "output_type": "execute_result"
    }
   ],
   "source": [
    "gbc = GradientBoostingClassifier(max_features=0.4, max_depth=10)\n",
    "gbc.fit(training_samples, training_features)"
   ]
  },
  {
   "cell_type": "markdown",
   "metadata": {},
   "source": [
    "#### Pontosság összesítve"
   ]
  },
  {
   "cell_type": "code",
   "execution_count": 15,
   "metadata": {},
   "outputs": [
    {
     "data": {
      "text/plain": [
       "0.7043795620437956"
      ]
     },
     "execution_count": 15,
     "metadata": {},
     "output_type": "execute_result"
    }
   ],
   "source": [
    "gbc.score(testing_samples, testing_features)"
   ]
  },
  {
   "cell_type": "markdown",
   "metadata": {},
   "source": [
    "#### Eredmények kiértékelése"
   ]
  },
  {
   "cell_type": "code",
   "execution_count": 16,
   "metadata": {},
   "outputs": [
    {
     "data": {
      "text/plain": [
       "[[9, 25, 6, 81], [0, 2, 111, 16], [11, 82, 23, 28], [112, 29, 0, 13]]"
      ]
     },
     "execution_count": 16,
     "metadata": {},
     "output_type": "execute_result"
    }
   ],
   "source": [
    "boostResultArray = calcResultArray(gbc.predict(testing_samples))\n",
    "boostResultArray"
   ]
  },
  {
   "cell_type": "markdown",
   "metadata": {},
   "source": [
    "#### Eredmény szemléltetése hődiagrammon"
   ]
  },
  {
   "cell_type": "code",
   "execution_count": 17,
   "metadata": {},
   "outputs": [
    {
     "data": {
      "image/png": "[encoded data removed]",
      "text/plain": [
       "<Figure size 432x288 with 2 Axes>"
      ]
     },
     "metadata": {},
     "output_type": "display_data"
    }
   ],
   "source": [
    "plotResultArray(boostResultArray)"
   ]
  },
  {
   "cell_type": "code",
   "execution_count": null,
   "metadata": {},
   "outputs": [],
   "source": []
  }
 ],
 "metadata": {
  "kernelspec": {
   "display_name": "Python 3",
   "language": "python",
   "name": "python3"
  },
  "language_info": {
   "codemirror_mode": {
    "name": "ipython",
    "version": 3
   },
   "file_extension": ".py",
   "mimetype": "text/x-python",
   "name": "python",
   "nbconvert_exporter": "python",
   "pygments_lexer": "ipython3",
   "version": "3.6.5"
  }
 },
 "nbformat": 4,
 "nbformat_minor": 2
}
