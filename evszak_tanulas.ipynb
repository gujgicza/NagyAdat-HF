{
 "cells": [
  {
   "cell_type": "code",
   "execution_count": 1,
   "metadata": {},
   "outputs": [],
   "source": [
    "import pandas as pd\n",
    "from sklearn import tree\n",
    "#import graphviz\n",
    "import math\n",
    "import matplotlib.pyplot as plt\n",
    "import numpy as np"
   ]
  },
  {
   "cell_type": "markdown",
   "metadata": {},
   "source": [
    "## Beolvasás és átalakítás"
   ]
  },
  {
   "cell_type": "code",
   "execution_count": 2,
   "metadata": {},
   "outputs": [
    {
     "data": {
      "text/html": [
       "<div>\n",
       "<style scoped>\n",
       "    .dataframe tbody tr th:only-of-type {\n",
       "        vertical-align: middle;\n",
       "    }\n",
       "\n",
       "    .dataframe tbody tr th {\n",
       "        vertical-align: top;\n",
       "    }\n",
       "\n",
       "    .dataframe thead th {\n",
       "        text-align: right;\n",
       "    }\n",
       "</style>\n",
       "<table border=\"1\" class=\"dataframe\">\n",
       "  <thead>\n",
       "    <tr style=\"text-align: right;\">\n",
       "      <th></th>\n",
       "      <th>Date</th>\n",
       "      <th>Time</th>\n",
       "      <th>Global_active_power</th>\n",
       "      <th>Global_reactive_power</th>\n",
       "      <th>Voltage</th>\n",
       "      <th>Global_intensity</th>\n",
       "      <th>Sub_metering_1</th>\n",
       "      <th>Sub_metering_2</th>\n",
       "      <th>Sub_metering_3</th>\n",
       "    </tr>\n",
       "  </thead>\n",
       "  <tbody>\n",
       "    <tr>\n",
       "      <th>0</th>\n",
       "      <td>16/12/2006</td>\n",
       "      <td>17:24:00</td>\n",
       "      <td>4.216</td>\n",
       "      <td>0.418</td>\n",
       "      <td>234.84</td>\n",
       "      <td>18.4</td>\n",
       "      <td>0.0</td>\n",
       "      <td>1.0</td>\n",
       "      <td>17.0</td>\n",
       "    </tr>\n",
       "    <tr>\n",
       "      <th>1</th>\n",
       "      <td>16/12/2006</td>\n",
       "      <td>17:25:00</td>\n",
       "      <td>5.360</td>\n",
       "      <td>0.436</td>\n",
       "      <td>233.63</td>\n",
       "      <td>23.0</td>\n",
       "      <td>0.0</td>\n",
       "      <td>1.0</td>\n",
       "      <td>16.0</td>\n",
       "    </tr>\n",
       "    <tr>\n",
       "      <th>2</th>\n",
       "      <td>16/12/2006</td>\n",
       "      <td>17:26:00</td>\n",
       "      <td>5.374</td>\n",
       "      <td>0.498</td>\n",
       "      <td>233.29</td>\n",
       "      <td>23.0</td>\n",
       "      <td>0.0</td>\n",
       "      <td>2.0</td>\n",
       "      <td>17.0</td>\n",
       "    </tr>\n",
       "    <tr>\n",
       "      <th>3</th>\n",
       "      <td>16/12/2006</td>\n",
       "      <td>17:27:00</td>\n",
       "      <td>5.388</td>\n",
       "      <td>0.502</td>\n",
       "      <td>233.74</td>\n",
       "      <td>23.0</td>\n",
       "      <td>0.0</td>\n",
       "      <td>1.0</td>\n",
       "      <td>17.0</td>\n",
       "    </tr>\n",
       "    <tr>\n",
       "      <th>4</th>\n",
       "      <td>16/12/2006</td>\n",
       "      <td>17:28:00</td>\n",
       "      <td>3.666</td>\n",
       "      <td>0.528</td>\n",
       "      <td>235.68</td>\n",
       "      <td>15.8</td>\n",
       "      <td>0.0</td>\n",
       "      <td>1.0</td>\n",
       "      <td>17.0</td>\n",
       "    </tr>\n",
       "  </tbody>\n",
       "</table>\n",
       "</div>"
      ],
      "text/plain": [
       "         Date      Time  Global_active_power  Global_reactive_power  Voltage  \\\n",
       "0  16/12/2006  17:24:00                4.216                  0.418   234.84   \n",
       "1  16/12/2006  17:25:00                5.360                  0.436   233.63   \n",
       "2  16/12/2006  17:26:00                5.374                  0.498   233.29   \n",
       "3  16/12/2006  17:27:00                5.388                  0.502   233.74   \n",
       "4  16/12/2006  17:28:00                3.666                  0.528   235.68   \n",
       "\n",
       "   Global_intensity  Sub_metering_1  Sub_metering_2  Sub_metering_3  \n",
       "0              18.4             0.0             1.0            17.0  \n",
       "1              23.0             0.0             1.0            16.0  \n",
       "2              23.0             0.0             2.0            17.0  \n",
       "3              23.0             0.0             1.0            17.0  \n",
       "4              15.8             0.0             1.0            17.0  "
      ]
     },
     "execution_count": 2,
     "metadata": {},
     "output_type": "execute_result"
    }
   ],
   "source": [
    "df = pd.read_csv('household_power_consumption.txt', sep=';', low_memory=False, na_values=['nan','?'], header=0,\n",
    "                 dtype={'Date': str, 'Time': str, 'Global_active_power': float, 'Global_reactive_power': float,\n",
    "                        'Voltage': float, 'Global_intensity': float,\n",
    "                        'Sub_metering_1': float, 'Sub_metering_2': float, 'Sub_metering_3': float})\n",
    "df = df.dropna()\n",
    "df.head()"
   ]
  },
  {
   "cell_type": "markdown",
   "metadata": {},
   "source": [
    "#### Dátum külön szedése évre és hónap/nap-ra, értékek összegzése óránként"
   ]
  },
  {
   "cell_type": "code",
   "execution_count": 3,
   "metadata": {
    "scrolled": true
   },
   "outputs": [],
   "source": [
    "data = pd.DataFrame()\n",
    "data['Year'] = df.apply(lambda row: row['Date'][-4:], axis = 1)\n",
    "data['Date'] = df.apply(lambda row: row['Date'][:-5], axis = 1)\n",
    "data['Hour'] = df.apply(lambda row: float(row['Time'][:2]), axis = 1)\n",
    "\n",
    "data['Global_active_power'] = df['Global_active_power']\n",
    "data['Global_reactive_power'] = df ['Global_reactive_power']\n",
    "data['Voltage'] = df['Voltage']\n",
    "data['Global_intensity'] = df['Global_intensity']\n",
    "data['Sub_metering_1'] = df['Sub_metering_1']\n",
    "data['Sub_metering_2'] = df['Sub_metering_2']\n",
    "data['Sub_metering_3'] = df['Sub_metering_3']\n",
    "\n",
    "data = data.groupby(['Year', 'Date', 'Hour']).sum().reset_index().drop(columns=['Year'])"
   ]
  },
  {
   "cell_type": "code",
   "execution_count": 4,
   "metadata": {},
   "outputs": [
    {
     "data": {
      "text/plain": [
       "(34168, 9)"
      ]
     },
     "execution_count": 4,
     "metadata": {},
     "output_type": "execute_result"
    }
   ],
   "source": [
    "data.shape"
   ]
  },
  {
   "cell_type": "markdown",
   "metadata": {},
   "source": [
    "#### Oszlopok helyettesítése statisztikai adatokkal: \n",
    "adott hónap adott napján, adott órában az értékek minimuma, maximuma, szórása és átlaga"
   ]
  },
  {
   "cell_type": "code",
   "execution_count": 5,
   "metadata": {},
   "outputs": [],
   "source": [
    "def calcGroupedBy(aggFunc):\n",
    "    return data.groupby(['Date', 'Hour']).agg(aggFunc).reset_index().set_index(['Date', 'Hour'])\n",
    "\n",
    "mins = calcGroupedBy('min')\n",
    "maxs = calcGroupedBy('max')\n",
    "means = calcGroupedBy('mean')\n",
    "variances = calcGroupedBy('var')"
   ]
  },
  {
   "cell_type": "code",
   "execution_count": 7,
   "metadata": {},
   "outputs": [],
   "source": [
    "stat_data = pd.DataFrame()\n",
    "\n",
    "for i in range(3,9):\n",
    "    col = data.columns[i]\n",
    "    stat_data[col + '_min'] = mins[col]\n",
    "    stat_data[col + '_max'] = maxs[col]\n",
    "    stat_data[col + '_mean'] = means[col]\n",
    "    stat_data[col + '_var'] = variances[col]\n",
    "    \n",
    "stat_data = stat_data.reset_index().dropna()"
   ]
  },
  {
   "cell_type": "markdown",
   "metadata": {},
   "source": [
    "#### Évszak oszlop előállítása: 1-tél, 2-tavasz, 3-nyár, 4-ősz"
   ]
  },
  {
   "cell_type": "code",
   "execution_count": 10,
   "metadata": {},
   "outputs": [
    {
     "data": {
      "text/html": [
       "<div>\n",
       "<style scoped>\n",
       "    .dataframe tbody tr th:only-of-type {\n",
       "        vertical-align: middle;\n",
       "    }\n",
       "\n",
       "    .dataframe tbody tr th {\n",
       "        vertical-align: top;\n",
       "    }\n",
       "\n",
       "    .dataframe thead th {\n",
       "        text-align: right;\n",
       "    }\n",
       "</style>\n",
       "<table border=\"1\" class=\"dataframe\">\n",
       "  <thead>\n",
       "    <tr style=\"text-align: right;\">\n",
       "      <th></th>\n",
       "      <th>Hour</th>\n",
       "      <th>Global_reactive_power_min</th>\n",
       "      <th>Global_reactive_power_max</th>\n",
       "      <th>Global_reactive_power_mean</th>\n",
       "      <th>Global_reactive_power_var</th>\n",
       "      <th>Voltage_min</th>\n",
       "      <th>Voltage_max</th>\n",
       "      <th>Voltage_mean</th>\n",
       "      <th>Voltage_var</th>\n",
       "      <th>Global_intensity_min</th>\n",
       "      <th>...</th>\n",
       "      <th>Sub_metering_1_var</th>\n",
       "      <th>Sub_metering_2_min</th>\n",
       "      <th>Sub_metering_2_max</th>\n",
       "      <th>Sub_metering_2_mean</th>\n",
       "      <th>Sub_metering_2_var</th>\n",
       "      <th>Sub_metering_3_min</th>\n",
       "      <th>Sub_metering_3_max</th>\n",
       "      <th>Sub_metering_3_mean</th>\n",
       "      <th>Sub_metering_3_var</th>\n",
       "      <th>Season</th>\n",
       "    </tr>\n",
       "  </thead>\n",
       "  <tbody>\n",
       "    <tr>\n",
       "      <th>0</th>\n",
       "      <td>0.0</td>\n",
       "      <td>2.786</td>\n",
       "      <td>6.768</td>\n",
       "      <td>4.5720</td>\n",
       "      <td>3.009747</td>\n",
       "      <td>14478.00</td>\n",
       "      <td>14812.36</td>\n",
       "      <td>14566.3050</td>\n",
       "      <td>26949.830767</td>\n",
       "      <td>143.8</td>\n",
       "      <td>...</td>\n",
       "      <td>0.0</td>\n",
       "      <td>0.0</td>\n",
       "      <td>35.0</td>\n",
       "      <td>8.75</td>\n",
       "      <td>306.250000</td>\n",
       "      <td>0.0</td>\n",
       "      <td>1074.0</td>\n",
       "      <td>396.25</td>\n",
       "      <td>262180.250000</td>\n",
       "      <td>1</td>\n",
       "    </tr>\n",
       "    <tr>\n",
       "      <th>1</th>\n",
       "      <td>1.0</td>\n",
       "      <td>4.298</td>\n",
       "      <td>8.924</td>\n",
       "      <td>5.9310</td>\n",
       "      <td>4.183233</td>\n",
       "      <td>14449.83</td>\n",
       "      <td>14648.66</td>\n",
       "      <td>14515.3800</td>\n",
       "      <td>8282.862867</td>\n",
       "      <td>146.8</td>\n",
       "      <td>...</td>\n",
       "      <td>0.0</td>\n",
       "      <td>0.0</td>\n",
       "      <td>48.0</td>\n",
       "      <td>18.75</td>\n",
       "      <td>542.250000</td>\n",
       "      <td>0.0</td>\n",
       "      <td>1068.0</td>\n",
       "      <td>276.75</td>\n",
       "      <td>278594.250000</td>\n",
       "      <td>1</td>\n",
       "    </tr>\n",
       "    <tr>\n",
       "      <th>2</th>\n",
       "      <td>2.0</td>\n",
       "      <td>4.402</td>\n",
       "      <td>6.400</td>\n",
       "      <td>5.7260</td>\n",
       "      <td>0.819048</td>\n",
       "      <td>14564.73</td>\n",
       "      <td>14784.13</td>\n",
       "      <td>14645.4025</td>\n",
       "      <td>9541.956492</td>\n",
       "      <td>152.6</td>\n",
       "      <td>...</td>\n",
       "      <td>0.0</td>\n",
       "      <td>0.0</td>\n",
       "      <td>31.0</td>\n",
       "      <td>12.75</td>\n",
       "      <td>236.916667</td>\n",
       "      <td>0.0</td>\n",
       "      <td>1084.0</td>\n",
       "      <td>281.00</td>\n",
       "      <td>286937.333333</td>\n",
       "      <td>1</td>\n",
       "    </tr>\n",
       "    <tr>\n",
       "      <th>3</th>\n",
       "      <td>3.0</td>\n",
       "      <td>3.300</td>\n",
       "      <td>5.406</td>\n",
       "      <td>4.5185</td>\n",
       "      <td>0.782937</td>\n",
       "      <td>14514.79</td>\n",
       "      <td>14714.79</td>\n",
       "      <td>14617.3375</td>\n",
       "      <td>7057.561692</td>\n",
       "      <td>142.4</td>\n",
       "      <td>...</td>\n",
       "      <td>0.0</td>\n",
       "      <td>0.0</td>\n",
       "      <td>28.0</td>\n",
       "      <td>11.00</td>\n",
       "      <td>185.333333</td>\n",
       "      <td>0.0</td>\n",
       "      <td>1077.0</td>\n",
       "      <td>290.00</td>\n",
       "      <td>276806.000000</td>\n",
       "      <td>1</td>\n",
       "    </tr>\n",
       "    <tr>\n",
       "      <th>4</th>\n",
       "      <td>4.0</td>\n",
       "      <td>3.276</td>\n",
       "      <td>8.210</td>\n",
       "      <td>5.1110</td>\n",
       "      <td>5.028439</td>\n",
       "      <td>14463.91</td>\n",
       "      <td>14700.20</td>\n",
       "      <td>14552.6100</td>\n",
       "      <td>10852.092733</td>\n",
       "      <td>140.8</td>\n",
       "      <td>...</td>\n",
       "      <td>0.0</td>\n",
       "      <td>0.0</td>\n",
       "      <td>45.0</td>\n",
       "      <td>11.25</td>\n",
       "      <td>506.250000</td>\n",
       "      <td>0.0</td>\n",
       "      <td>1069.0</td>\n",
       "      <td>277.25</td>\n",
       "      <td>278963.583333</td>\n",
       "      <td>1</td>\n",
       "    </tr>\n",
       "  </tbody>\n",
       "</table>\n",
       "<p>5 rows × 26 columns</p>\n",
       "</div>"
      ],
      "text/plain": [
       "   Hour  Global_reactive_power_min  Global_reactive_power_max  \\\n",
       "0   0.0                      2.786                      6.768   \n",
       "1   1.0                      4.298                      8.924   \n",
       "2   2.0                      4.402                      6.400   \n",
       "3   3.0                      3.300                      5.406   \n",
       "4   4.0                      3.276                      8.210   \n",
       "\n",
       "   Global_reactive_power_mean  Global_reactive_power_var  Voltage_min  \\\n",
       "0                      4.5720                   3.009747     14478.00   \n",
       "1                      5.9310                   4.183233     14449.83   \n",
       "2                      5.7260                   0.819048     14564.73   \n",
       "3                      4.5185                   0.782937     14514.79   \n",
       "4                      5.1110                   5.028439     14463.91   \n",
       "\n",
       "   Voltage_max  Voltage_mean   Voltage_var  Global_intensity_min   ...    \\\n",
       "0     14812.36    14566.3050  26949.830767                 143.8   ...     \n",
       "1     14648.66    14515.3800   8282.862867                 146.8   ...     \n",
       "2     14784.13    14645.4025   9541.956492                 152.6   ...     \n",
       "3     14714.79    14617.3375   7057.561692                 142.4   ...     \n",
       "4     14700.20    14552.6100  10852.092733                 140.8   ...     \n",
       "\n",
       "   Sub_metering_1_var  Sub_metering_2_min  Sub_metering_2_max  \\\n",
       "0                 0.0                 0.0                35.0   \n",
       "1                 0.0                 0.0                48.0   \n",
       "2                 0.0                 0.0                31.0   \n",
       "3                 0.0                 0.0                28.0   \n",
       "4                 0.0                 0.0                45.0   \n",
       "\n",
       "   Sub_metering_2_mean  Sub_metering_2_var  Sub_metering_3_min  \\\n",
       "0                 8.75          306.250000                 0.0   \n",
       "1                18.75          542.250000                 0.0   \n",
       "2                12.75          236.916667                 0.0   \n",
       "3                11.00          185.333333                 0.0   \n",
       "4                11.25          506.250000                 0.0   \n",
       "\n",
       "   Sub_metering_3_max  Sub_metering_3_mean  Sub_metering_3_var  Season  \n",
       "0              1074.0               396.25       262180.250000       1  \n",
       "1              1068.0               276.75       278594.250000       1  \n",
       "2              1084.0               281.00       286937.333333       1  \n",
       "3              1077.0               290.00       276806.000000       1  \n",
       "4              1069.0               277.25       278963.583333       1  \n",
       "\n",
       "[5 rows x 26 columns]"
      ]
     },
     "execution_count": 10,
     "metadata": {},
     "output_type": "execute_result"
    }
   ],
   "source": [
    "def getSeason(date):\n",
    "    month = int(date.split(\"/\")[1])\n",
    "    if 2 < month & month <= 5:\n",
    "        return 2\n",
    "    if 5 < month & month <= 8:\n",
    "        return 3\n",
    "    if 8 < month & month <= 11:\n",
    "        return 4\n",
    "    return 1\n",
    "\n",
    "stat_data['Season'] = stat_data.apply(lambda row: getSeason(row['Date']), axis=1)\n",
    "stat_data = stat_data.drop(columns=['Date'])\n",
    "\n",
    "stat_data.head()"
   ]
  },
  {
   "cell_type": "code",
   "execution_count": 11,
   "metadata": {},
   "outputs": [
    {
     "data": {
      "text/plain": [
       "(8760, 26)"
      ]
     },
     "execution_count": 11,
     "metadata": {},
     "output_type": "execute_result"
    }
   ],
   "source": [
    "stat_data.shape"
   ]
  },
  {
   "cell_type": "markdown",
   "metadata": {},
   "source": [
    "## Döntési fa"
   ]
  },
  {
   "cell_type": "markdown",
   "metadata": {},
   "source": [
    "#### Tanító halmaz és teszthalmaz előállítása\n",
    "3:1 arányban"
   ]
  },
  {
   "cell_type": "code",
   "execution_count": 12,
   "metadata": {},
   "outputs": [
    {
     "name": "stdout",
     "output_type": "stream",
     "text": [
      "Train data size: 6570\n",
      "Test data size: 2190\n"
     ]
    }
   ],
   "source": [
    "train_size = math.floor(stat_data.shape[0] / 4 * 3)\n",
    "test_size = stat_data.shape[0] - train_size\n",
    "print(\"Train data size: \" + str(train_size))\n",
    "print(\"Test data size: \" + str(test_size))\n",
    "\n",
    "training = stat_data.head(train_size).reset_index(drop=True)\n",
    "testing = stat_data.tail(test_size).reset_index(drop=True)\n",
    "\n",
    "training_samples = training.drop(columns=['Season']).values\n",
    "training_features = training['Season'].values\n",
    "\n",
    "testing_samples = testing.drop(columns=['Season']).values\n",
    "testing_features = testing['Season'].values"
   ]
  },
  {
   "cell_type": "markdown",
   "metadata": {},
   "source": [
    "#### Döntési fa felépítése"
   ]
  },
  {
   "cell_type": "code",
   "execution_count": 13,
   "metadata": {
    "scrolled": true
   },
   "outputs": [],
   "source": [
    "clf = tree.DecisionTreeClassifier(max_depth=10, max_features=0.3, class_weight='balanced')\n",
    "clf = clf.fit(training_samples, training_features)"
   ]
  },
  {
   "cell_type": "markdown",
   "metadata": {},
   "source": [
    "#### Elkészült döntési fa ábrázolása"
   ]
  },
  {
   "cell_type": "code",
   "execution_count": 14,
   "metadata": {},
   "outputs": [],
   "source": [
    "# dot_data = tree.export_graphviz(clf, out_file=\"myDecisionTree.dot\")\n",
    "# graph = graphviz.Source(dot_data)\n",
    "# graph.render(\"myDecisionTree\")"
   ]
  },
  {
   "cell_type": "markdown",
   "metadata": {},
   "source": [
    "#### Eredmények kiértékelése\n",
    "Kétdimenziós tömbben összegezzük, hányszor fordult elő, hogy egy adat esetén A évszak volt a megoldás, és a fa B évszakot döntött."
   ]
  },
  {
   "cell_type": "code",
   "execution_count": 15,
   "metadata": {},
   "outputs": [
    {
     "data": {
      "text/plain": [
       "[[148, 200, 76, 265], [6, 48, 379, 103], [67, 188, 95, 107], [307, 116, 8, 77]]"
      ]
     },
     "execution_count": 15,
     "metadata": {},
     "output_type": "execute_result"
    }
   ],
   "source": [
    "# expected:     wi,sp,su,au    predicted:\n",
    "resultArray = [[0, 0, 0, 0],  # wi\n",
    "               [0, 0, 0, 0],  # sp\n",
    "               [0, 0, 0, 0],  # su\n",
    "               [0, 0, 0, 0]]  # au\n",
    "\n",
    "results = clf.predict(testing_samples)\n",
    "for i in range(len(results)):\n",
    "    origin = testing_features[i]\n",
    "    predicted = results[i]\n",
    "    oldValue = resultArray[predicted-1][origin-1]\n",
    "    resultArray[predicted-1][origin-1] = oldValue + 1\n",
    "    \n",
    "first = resultArray[0]\n",
    "second = resultArray[1]\n",
    "resultArray[0] = resultArray[3]\n",
    "resultArray[1] = resultArray[2]\n",
    "resultArray[2] = second\n",
    "resultArray[3] = first\n",
    "\n",
    "resultArray"
   ]
  },
  {
   "cell_type": "markdown",
   "metadata": {},
   "source": [
    "#### Eredmény szemléltetése hődiagrammon"
   ]
  },
  {
   "cell_type": "code",
   "execution_count": 16,
   "metadata": {},
   "outputs": [
    {
     "data": {
      "image/png": "[encoded data removed]",
      "text/plain": [
       "<Figure size 432x288 with 2 Axes>"
      ]
     },
     "metadata": {},
     "output_type": "display_data"
    }
   ],
   "source": [
    "fig, ax = plt.subplots()\n",
    "im = ax.imshow(resultArray)\n",
    "fig.colorbar(im)\n",
    "ax.set_xticklabels(['', 'winter', 'spring', 'summer', 'autumn'])\n",
    "ax.set_yticklabels(['', 'autumn', '', 'summer', '', 'spring', '', 'winter'])\n",
    "ax.set_xlabel('Jósolt évszak')\n",
    "ax.set_ylabel('Eredeti évszak')\n",
    "plt.title('Betanított fa tesztelésének eredménye')\n",
    "plt.show()"
   ]
  },
  {
   "cell_type": "code",
   "execution_count": null,
   "metadata": {},
   "outputs": [],
   "source": []
  }
 ],
 "metadata": {
  "kernelspec": {
   "display_name": "Python 3",
   "language": "python",
   "name": "python3"
  },
  "language_info": {
   "codemirror_mode": {
    "name": "ipython",
    "version": 3
   },
   "file_extension": ".py",
   "mimetype": "text/x-python",
   "name": "python",
   "nbconvert_exporter": "python",
   "pygments_lexer": "ipython3",
   "version": "3.6.5"
  }
 },
 "nbformat": 4,
 "nbformat_minor": 2
}
